{
 "cells": [
  {
   "cell_type": "markdown",
   "metadata": {},
   "source": [
    "# DS-GA 1003: Machine Learning and Computational Statistics\n",
    "## Homework 3: SVM and Sentiment Analysis"
   ]
  },
  {
   "cell_type": "markdown",
   "metadata": {},
   "source": [
    "### 2. Calculating Subgradients"
   ]
  },
  {
   "cell_type": "markdown",
   "metadata": {},
   "source": [
    "2.1 [Subgradients for pointwise maximum of functions] Suppose $f_{1},\\ldots,f_{m}:\\mathbf R^{d}\\to\\mathbf R$ are convex functions, and $$f(x)=\\max_{i=1,\\ldots,,m}f_{i}(x).$$ Let $k$ be any index for which $f_{k}(x)=f(x)$, and choose $g\\in\\partial f_{k}(x)$.[We are using the fact that a convex function on $\\mathbf R^{d}$ has a non-empty subdifferential at all points.] Show that Formula $g\\in\\partial f(x)$\n"
   ]
  },
  {
   "cell_type": "markdown",
   "metadata": {},
   "source": [
    "> __ANSWER:__\n",
    "\n",
    "> Let $k$ be any index for which $f_k(x)=f(x)$, and choose $g\\in \\partial f_k(x)$.\n",
    "\n",
    "> $$f(z)\\geq f_k(z)\\geq f_k(x)+g^T(z-x)=f(x)+g^T(z-x)$$\n",
    "\n",
    "> So for $g\\in \\partial f_k(x)$, $g\\in \\partial f(x)$.\n",
    "\n",
    "> For the subdifferiential $\\partial f(x)$, we have $$\\partial f(x)=\\mathbf{Co}\\cup\\{\\nabla f_i(x)|f_i(x)=f(x)\\}$$"
   ]
  },
  {
   "cell_type": "markdown",
   "metadata": {},
   "source": [
    "2.2 [Subgradient of hinge loss for linear prediction] Give a subgradient of $$J(w)=\\max\\left\\{ 0,1-yw^{T}x\\right\\}$$."
   ]
  },
  {
   "cell_type": "markdown",
   "metadata": {},
   "source": [
    "> __ANSWER:__\n",
    "\n",
    "> $\\partial f(x)$=max{0, $-y_nx_n$}"
   ]
  },
  {
   "cell_type": "markdown",
   "metadata": {},
   "source": [
    "### 3.  Perceptron"
   ]
  },
  {
   "cell_type": "markdown",
   "metadata": {},
   "source": [
    "In this problem we will see why this loss function has this name.\n",
    "\n",
    "3.1. Show that if $\\{x | w^T x=0\\}$ is a separating hyperplane for a training set $\\mathcal D = ((x_1, y_1), . . . ,(x_n, y_n))$, then the average perceptron loss on D is 0."
   ]
  },
  {
   "cell_type": "markdown",
   "metadata": {},
   "source": [
    "> __ANSWER:__\n",
    "\n",
    "> $\\begin{array}{lll}\n",
    " \\frac{\\ell(D)}{n}&=&\\frac{1}{n}\\sum_{i=1}^n max(0,-\\hat{y_i}y_i)\\\\\n",
    " &=&\\frac{1}{n}\\sum_{i=1}^n max(0,-w_ix_iy_i)\\\\\n",
    " \\end{array}$\n",
    " \n",
    "> $\\{x|w^Tx=0\\}$ seperates the training set, \n",
    "\n",
    "> $$\\forall i, w_ix_iy_i>0, \\frac{\\ell(D)}{n}=0$$"
   ]
  },
  {
   "cell_type": "markdown",
   "metadata": {},
   "source": [
    "3.2. Let $\\mathcal H$ be the linear hypothesis space consisting of functions $x \\mapsto w^T x$. Consider running\n",
    "SGD to minimize the empirical risk with the perceptron loss. We’ll use the version of SGD in which we cycle through the data points in each epoch. Show that if we use a fixed step size 1 and we terminate when our training loss is 0, then we are exactly doing the Perceptron algorithm."
   ]
  },
  {
   "cell_type": "markdown",
   "metadata": {},
   "source": [
    "> __ANSWER:__\n",
    "\n",
    "> The update rule for w in Stochastic Subgradient Descend is,\n",
    "\n",
    "> $$w_{t} = w_{t-1}-\\partial_w[max(0,-w_{t-1}^Tx_{t-1}y_{t-1})] $$\n",
    "\n",
    ">$$w_{t}=\\begin{cases}\n",
    "w_{t-1}&-w_{t-1}^Tx_{t-1}y_{t-1}<0\\\\\n",
    "w_{t-1}+y_{t-1}x_{t-1}&-w_{t-1}^Tx_{t-1}y_{t-1}\\geq0\\\\\n",
    "\\end{cases}$$\n",
    "\n",
    "> And terminates at training loss is 0 means $$\\forall i, -w_{t-1}^Tx_{t-1}y_{t-1}<0$$ \n",
    "\n",
    "> Which is exactly the perceptron algorithm is."
   ]
  },
  {
   "cell_type": "markdown",
   "metadata": {},
   "source": [
    "3.3. Suppose the perceptron algorithm returns $w$. Show that $w$ is a linear combination of the input points. That is, we can write $w =\\sum_{i=1}^n \\alpha_ix_i$ for some $\\alpha_1,..., \\alpha_n \\in \\mathbf R$. The $x_i$ for which $\\alpha_i\\neq0$ are called support vectors. Give a characterization of points that are support vectors and not support vectors with regard to what happens with them during the algorithm."
   ]
  },
  {
   "cell_type": "markdown",
   "metadata": {},
   "source": [
    "> __ANSWER__\n",
    "\n",
    "> The support vectors in the perceptron algorithm are those misclassified during the algorithm."
   ]
  },
  {
   "cell_type": "markdown",
   "metadata": {},
   "source": [
    "### 4. The Data\n",
    "\n",
    "Load all the data and randomly split it into 1500 training examples and 500 test examples."
   ]
  },
  {
   "cell_type": "code",
   "execution_count": 1,
   "metadata": {
    "collapsed": true
   },
   "outputs": [],
   "source": [
    "#Prep\n",
    "import os\n",
    "import numpy as np\n",
    "import pandas as pd\n",
    "import random\n",
    "import collections\n",
    "import time\n",
    "from datetime import datetime\n",
    "import matplotlib.pyplot as plt\n",
    "from __future__ import division,print_function\n",
    "%matplotlib inline"
   ]
  },
  {
   "cell_type": "code",
   "execution_count": 2,
   "metadata": {
    "collapsed": true
   },
   "outputs": [],
   "source": [
    "def timing(f):\n",
    "    def wrap(*args):\n",
    "        time1 = time.time()\n",
    "        ret = f(*args)\n",
    "        time2 = time.time()\n",
    "        print('%s function took %0.3f ms' % (f.func_name, (time2-time1)*1000.0))\n",
    "        return ret\n",
    "    return wrap"
   ]
  },
  {
   "cell_type": "code",
   "execution_count": 3,
   "metadata": {
    "collapsed": false
   },
   "outputs": [],
   "source": [
    "def folder_list(path,label):\n",
    "    '''\n",
    "    Take path to a directory, apply the label the contained documents,\n",
    "    and return the list of documents\n",
    "    PARAMETER PATH IS THE PATH OF YOUR LOCAL FOLDER\n",
    "    Label is positive or negative\n",
    "    '''\n",
    "    filelist = os.listdir(path)\n",
    "    review = []\n",
    "    for infile in filelist:\n",
    "        myfile = os.path.join(path,infile)\n",
    "        r = read_data(myfile)\n",
    "        r.append(label)\n",
    "        r.append(infile) #add file id for later reference\n",
    "        review.append(r)\n",
    "    return review\n",
    "\n",
    "def read_data(file_path):\n",
    "    '''\n",
    "    Read each file into a list of strings. \n",
    "    Example:\n",
    "    [\"it's\", 'a', 'curious', 'thing', \"i've\", 'found', 'that', 'when', 'willis', 'is', 'not', 'called', 'on', \n",
    "    ...'to', 'carry', 'the', 'whole', 'movie', \"he's\", 'much', 'better', 'and', 'so', 'is', 'the', 'movie']\n",
    "    '''\n",
    "    f = open(file_path)\n",
    "    lines = f.read().split(' ')\n",
    "    symbols = '${}()[].,:;+-*/&|<>=~\"_`\\' '\n",
    "    words = map(lambda Element: Element.translate(None, symbols).strip(), lines)\n",
    "    words = filter(None, words)\n",
    "    return words\n",
    "    \n",
    "def train_test_split(data,pivot_index):\n",
    "    '''\n",
    "    split list of documents into training and test sets\n",
    "    '''\n",
    "    random.seed(1)\n",
    "    random.shuffle(data)\n",
    "    train = data[:pivot_index]\n",
    "    test = data[pivot_index:]\n",
    "    assert len(train)==pivot_index, \"Training set is not proper length\"\n",
    "    return train,test\n",
    "\n",
    "def load_data():\n",
    "    '''\n",
    "    pos_path is where you save positive review data.\n",
    "    neg_path is where you save negative review data.\n",
    "    '''\n",
    "    home_dir = os.getcwd()\n",
    "    pos_path = os.path.join(home_dir,\"data/pos\")\n",
    "    neg_path = os.path.join(home_dir,\"data/neg\")\n",
    "\n",
    "    pos_review = folder_list(pos_path,1)\n",
    "    neg_review = folder_list(neg_path,-1)\n",
    "\n",
    "    review = pos_review + neg_review\n",
    "    return train_test_split(review,1500)\n",
    "\n",
    "train,test = load_data()"
   ]
  },
  {
   "cell_type": "markdown",
   "metadata": {},
   "source": [
    "### 5. Sparse Representations"
   ]
  },
  {
   "cell_type": "markdown",
   "metadata": {},
   "source": [
    "5.1. Write a function that converts an example (e.g. a list of words) into a sparse bag-of-words\n",
    "representation."
   ]
  },
  {
   "cell_type": "code",
   "execution_count": 4,
   "metadata": {
    "collapsed": true
   },
   "outputs": [],
   "source": [
    "def lst2bag(lst):\n",
    "    bags = map(lambda x:collections.Counter(x[:-2]),lst)\n",
    "    labels = map(lambda x:x[-2],lst)\n",
    "    ids = map(lambda x:x[-1],lst)\n",
    "    return bags, labels, ids"
   ]
  },
  {
   "cell_type": "markdown",
   "metadata": {},
   "source": [
    "### 6. Support Vector Machine via Pegasos"
   ]
  },
  {
   "cell_type": "markdown",
   "metadata": {},
   "source": [
    "6.1. Compute a subgradient for the “stochastic” SVM objective, which assumes a single training point. Show that if your step size rule is $\\eta_t=\\frac{1}{\\lambda_t}$, then the corresponding SGD update is the same as given in the pseudocode. "
   ]
  },
  {
   "cell_type": "markdown",
   "metadata": {},
   "source": [
    "> __ANSWER__\n",
    "\n",
    "> The stochastic SVM objective function is $$J(w)=\\min\\limits_{w}\\frac{\\lambda}{2}\\|w\\|^2+\\frac{1}{m}\\sum_{i=1}^{m}(1-y_iw^Tx_i)_+$$\n",
    "\n",
    "> $$J_i(w)=\\begin{cases}\n",
    "\\frac{\\lambda}{2m}\\|w\\|^2+1-y_iw^Tx_i & \\text{if $y_iw^Tx_i<1$,}\\\\\n",
    "\\frac{\\lambda}{2m}\\|w\\|^2 & \\text{otherwise.}\n",
    "\\end{cases}$$\n",
    "\n",
    "> $$\\nabla_w J_i(w)=\\frac{\\lambda w}{m}-\\mathbb 1(y_iw^Tx_i<1)y_ix_i$$\n",
    "\n",
    "> $$w_t = w_{t-1}-\\eta_t\\nabla_w J_i(w_{t-1})=(1-\\eta_tw_{t-1})w_{t-1}-\\mathbb 1(y_iw^Tx_i<1)\\eta_iy_ix_i$$"
   ]
  },
  {
   "cell_type": "markdown",
   "metadata": {},
   "source": [
    "6.2. Implement the Pegasos algorithm to run on a sparse data representation. The output should be a sparse weight vector w. Note that our Pegasos algorithm starts at w = 0. In a sparse representation, this corresponds to an empty dictionary. With this problem, you will need to take some care to code things efficiently. In particular, be aware that making copies of the weight dictionary can slow down your code significantly. If you want to make a copy of your\n",
    "weights (e.g. for checking for convergence), make sure you don’t do this more than once per epoch."
   ]
  },
  {
   "cell_type": "code",
   "execution_count": 5,
   "metadata": {
    "collapsed": true
   },
   "outputs": [],
   "source": [
    "def dotProduct(d1, d2):\n",
    "    \"\"\"\n",
    "    @param dict d1: a feature vector represented by a mapping from a feature (string) to a weight (float).\n",
    "    @param dict d2: same as d1\n",
    "    @return float: the dot product between d1 and d2\n",
    "    \"\"\"\n",
    "    if len(d1) < len(d2):\n",
    "        return dotProduct(d2, d1)\n",
    "    else:\n",
    "        return sum(d1.get(f, 0) * v for f, v in d2.items())\n",
    "\n",
    "def increment(d1, scale, d2):\n",
    "    \"\"\"\n",
    "    Implements d1 += scale * d2 for sparse vectors.\n",
    "    @param dict d1: the feature vector which is mutated.\n",
    "    @param float scale\n",
    "    @param dict d2: a feature vector.\n",
    "\n",
    "    NOTE: This function does not return anything, but rather\n",
    "    increments d1 in place. We do this because it is much faster to\n",
    "    change elements of d1 in place than to build a new dictionary and\n",
    "    return it.\n",
    "    \"\"\"\n",
    "    for f, v in d2.items():\n",
    "        if f in d1:\n",
    "            d1[f] = d1.get(f, 0) + v * scale\n",
    "    return d1"
   ]
  },
  {
   "cell_type": "code",
   "execution_count": 6,
   "metadata": {
    "collapsed": true
   },
   "outputs": [],
   "source": [
    "@timing\n",
    "\n",
    "def pegasos(X,y,W_init,Lambda,max_epoch):\n",
    "    m = len(X)\n",
    "    t = 0\n",
    "    epoch=0\n",
    "    W = w_init.copy()\n",
    "    while epoch<max_epoch:\n",
    "        for j in range(m):\n",
    "            t+=1\n",
    "            step = 1/(t*Lambda)\n",
    "            for feature,value in W.items():\n",
    "                W[feature] = value*(1-step*Lambda)\n",
    "            if( y[j]*dotProduct(W,X[j]) )<1:\n",
    "                increment(W,step*y[j],X[j])\n",
    "        epoch+=1\n",
    "        print(epoch)\n",
    "    return W"
   ]
  },
  {
   "cell_type": "code",
   "execution_count": 8,
   "metadata": {
    "collapsed": true
   },
   "outputs": [],
   "source": [
    "def initW(bags):\n",
    "    #     Get full dictionary\n",
    "    c = collections.Counter()\n",
    "    for review in bags:\n",
    "        c.update(review)\n",
    "    w = {}\n",
    "    for key,value in c.items():\n",
    "        w[key] = 0\n",
    "    return w"
   ]
  },
  {
   "cell_type": "code",
   "execution_count": 9,
   "metadata": {
    "collapsed": false
   },
   "outputs": [],
   "source": [
    "bag_train,label_train,ids_train = lst2bag(train)\n",
    "bag_test,label_test,ids_test = lst2bag(test)\n",
    "w_init = initW(bag_train)"
   ]
  },
  {
   "cell_type": "code",
   "execution_count": 10,
   "metadata": {
    "collapsed": false
   },
   "outputs": [
    {
     "name": "stdout",
     "output_type": "stream",
     "text": [
      "1\n",
      "pegasos function took 91160.556 ms\n"
     ]
    }
   ],
   "source": [
    "w = pegasos(bag_train,label_train,w_init,0.1,1)"
   ]
  },
  {
   "cell_type": "markdown",
   "metadata": {},
   "source": [
    "6.3. Implement the Pegasos algorithm with change in update."
   ]
  },
  {
   "cell_type": "code",
   "execution_count": 12,
   "metadata": {
    "collapsed": false
   },
   "outputs": [],
   "source": [
    "@timing\n",
    "def implemented_pegasos(X,y,W_init,Lambda,max_epoch):\n",
    "    m = len(X)\n",
    "    t=s=1\n",
    "    epoch=0\n",
    "    W = W_init.copy()\n",
    "    while epoch<max_epoch:\n",
    "        for j in range(m):\n",
    "            t+=1\n",
    "            step = 1/(t*Lambda)\n",
    "            s=(1-step*Lambda)*s\n",
    "            if( y[j]*dotProduct(W,X[j]) )<1:\n",
    "                increment(W,step*y[j]/s,X[j])\n",
    "        epoch+=1\n",
    "    #Scale w:\n",
    "    w={}\n",
    "    for f,v in W.items():\n",
    "        w[f]=v*s \n",
    "    return w"
   ]
  },
  {
   "cell_type": "code",
   "execution_count": 13,
   "metadata": {
    "collapsed": false
   },
   "outputs": [
    {
     "name": "stdout",
     "output_type": "stream",
     "text": [
      "implemented_pegasos function took 11591.152 ms\n"
     ]
    }
   ],
   "source": [
    "w_imp = implemented_pegasos(bag_train,label_train,w_init,1,50)"
   ]
  },
  {
   "cell_type": "markdown",
   "metadata": {},
   "source": [
    "6.4. Run both implementations of Pegasos to train an SVM on the training data (using the bag-of-words feature representation described above). Make sure your implementations are correct by verifying that the two approaches give essentially the same result. Report on the time taken to run each approach."
   ]
  },
  {
   "cell_type": "markdown",
   "metadata": {},
   "source": [
    "> __ANSWER__\n",
    "\n",
    "> The naive pegasos has the same parameters as the implemented pegasos. The implemented Pegasos is running 206.4ms per epoch, while the previous pegasos is running 86861ms per epoch."
   ]
  },
  {
   "cell_type": "markdown",
   "metadata": {},
   "source": [
    "6.5. Write a function that takes a sparse weight vector w and a collection of $(x,y)$ pairs, and returns the percent error when predicting y using $sign(w^Tx)$. In other words, the function reports the 0-1 loss of the linear predictor $x\\mapsto w^Tx.$"
   ]
  },
  {
   "cell_type": "code",
   "execution_count": 14,
   "metadata": {
    "collapsed": true
   },
   "outputs": [],
   "source": [
    "def get_err(X,y,w):\n",
    "    num = 0\n",
    "    for i in range(len(X)):\n",
    "        if dotProduct(w,X[i])*y[i]<0:\n",
    "            num += 1\n",
    "    return num/len(X)"
   ]
  },
  {
   "cell_type": "code",
   "execution_count": 15,
   "metadata": {
    "collapsed": false
   },
   "outputs": [
    {
     "data": {
      "text/plain": [
       "0.146"
      ]
     },
     "execution_count": 15,
     "metadata": {},
     "output_type": "execute_result"
    }
   ],
   "source": [
    "get_err(bag_test,label_test,w_imp)"
   ]
  },
  {
   "cell_type": "markdown",
   "metadata": {},
   "source": [
    "6.6. Using the bag-of-words feature representation described above, search for the regularization\n",
    "parameter that gives the minimal percent error on your test set. A good search strategy is to\n",
    "start with a set of lambdas spanning a broad range of orders of magnitude. Then, continue to\n",
    "zoom in until you’re convinced that additional search will not significantly improve your test\n",
    "performance. Once you have a sense of the general range of regularization parameters that\n",
    "give good results, you do not have to search over orders of magnitude every time you change\n",
    "something (such as adding new feature)."
   ]
  },
  {
   "cell_type": "code",
   "execution_count": 16,
   "metadata": {
    "collapsed": true
   },
   "outputs": [],
   "source": [
    "def lambda_search(lambdas,X,y):\n",
    "    loss_history = []\n",
    "    f = True\n",
    "    loss_opt=0\n",
    "    for Lambda in lambdas:\n",
    "        w_search = implemented_pegasos(X,y,w_init,Lambda,50)\n",
    "        loss = get_err(bag_test,label_test,w_search)\n",
    "        loss_history.append(loss)\n",
    "        print(\"Lambda is {0}, err is {1}.\".format(Lambda,loss))\n",
    "        if f or loss<loss_opt:\n",
    "            f=False\n",
    "            loss_opt = loss\n",
    "            w_opt = w_search\n",
    "            lambda_opt = Lambda        \n",
    "    return lambda_opt,w_opt,loss_opt,loss_history"
   ]
  },
  {
   "cell_type": "code",
   "execution_count": 17,
   "metadata": {
    "collapsed": false
   },
   "outputs": [
    {
     "name": "stdout",
     "output_type": "stream",
     "text": [
      "implemented_pegasos function took 15003.746 ms\n",
      "Lambda is 100.0, err is 0.146.\n",
      "implemented_pegasos function took 14886.406 ms\n",
      "Lambda is 21.5443469003, err is 0.144.\n",
      "implemented_pegasos function took 14964.526 ms\n",
      "Lambda is 4.64158883361, err is 0.148.\n",
      "implemented_pegasos function took 14910.793 ms\n",
      "Lambda is 1.0, err is 0.146.\n",
      "implemented_pegasos function took 15189.747 ms\n",
      "Lambda is 0.215443469003, err is 0.152.\n",
      "implemented_pegasos function took 14853.362 ms\n",
      "Lambda is 0.0464158883361, err is 0.152.\n",
      "implemented_pegasos function took 14869.276 ms\n",
      "Lambda is 0.01, err is 0.152.\n",
      "implemented_pegasos function took 14781.000 ms\n",
      "Lambda is 0.00215443469003, err is 0.152.\n",
      "implemented_pegasos function took 14835.016 ms\n",
      "Lambda is 0.000464158883361, err is 0.152.\n",
      "implemented_pegasos function took 14777.935 ms\n",
      "Lambda is 0.0001, err is 0.152.\n",
      "Best lambda = 21.5443469003\n"
     ]
    }
   ],
   "source": [
    "Lambdas=map(lambda x:10**x,np.linspace(2,-4,10))\n",
    "lambda_opt,w_opt, loss_opt, loss_history = lambda_search(Lambdas,bag_train,label_train)\n",
    "print('Best lambda = {0}'.format(lambda_opt))"
   ]
  },
  {
   "cell_type": "code",
   "execution_count": 18,
   "metadata": {
    "collapsed": false
   },
   "outputs": [
    {
     "data": {
      "image/png": "[encoded data removed]",
      "text/plain": [
       "<matplotlib.figure.Figure at 0x10b0d4490>"
      ]
     },
     "metadata": {},
     "output_type": "display_data"
    }
   ],
   "source": [
    "plt.plot(Lambdas,loss_history)\n",
    "plt.ylim(0.14,0.16)\n",
    "plt.xlabel('Lambda')\n",
    "plt.ylabel('Pct. Error')\n",
    "plt.xscale('log')\n",
    "plt.title('Pct. Error vs. Lambda')\n",
    "plt.show()"
   ]
  },
  {
   "cell_type": "code",
   "execution_count": 19,
   "metadata": {
    "collapsed": false
   },
   "outputs": [
    {
     "name": "stdout",
     "output_type": "stream",
     "text": [
      "implemented_pegasos function took 15045.886 ms\n",
      "Lambda is 1.0, err is 0.146.\n",
      "implemented_pegasos function took 14787.031 ms\n",
      "Lambda is 0.889, err is 0.152.\n",
      "implemented_pegasos function took 15012.624 ms\n",
      "Lambda is 0.778, err is 0.152.\n",
      "implemented_pegasos function took 14848.043 ms\n",
      "Lambda is 0.667, err is 0.152.\n",
      "implemented_pegasos function took 14910.439 ms\n",
      "Lambda is 0.556, err is 0.152.\n",
      "implemented_pegasos function took 14968.291 ms\n",
      "Lambda is 0.445, err is 0.152.\n",
      "implemented_pegasos function took 554500.128 ms\n",
      "Lambda is 0.334, err is 0.152.\n",
      "implemented_pegasos function took 16446.209 ms\n",
      "Lambda is 0.223, err is 0.152.\n",
      "implemented_pegasos function took 16492.498 ms\n",
      "Lambda is 0.112, err is 0.152.\n",
      "implemented_pegasos function took 15603.160 ms\n",
      "Lambda is 0.001, err is 0.152.\n",
      "Best lambda = 1.0\n"
     ]
    }
   ],
   "source": [
    "Lambdas=np.linspace(1,0.001,10)\n",
    "lambda_opt,w_opt, loss_opt, loss_history = lambda_search(Lambdas,bag_train,label_train)\n",
    "print('Best lambda = {0}'.format(lambda_opt))"
   ]
  },
  {
   "cell_type": "code",
   "execution_count": 20,
   "metadata": {
    "collapsed": false
   },
   "outputs": [
    {
     "data": {
      "image/png": "[encoded data removed]",
      "text/plain": [
       "<matplotlib.figure.Figure at 0x10ca4c910>"
      ]
     },
     "metadata": {},
     "output_type": "display_data"
    }
   ],
   "source": [
    "plt.plot(Lambdas,loss_history)\n",
    "plt.ylim(0.14,0.16)\n",
    "plt.xlabel('Lambda')\n",
    "plt.ylabel('Pct. Error')\n",
    "plt.xscale('log')\n",
    "plt.title('Pct. Error vs. Lambda')\n",
    "plt.show()"
   ]
  },
  {
   "cell_type": "markdown",
   "metadata": {},
   "source": [
    "6.7. [Optional] Recall that the “score” is the value of the prediction $f(x)=w^Tx$. We like to think that the magnitude of the score represents the confidence of the prediction. This is something we can directly verify or refute. Break the predictions into groups based on the score (you can play with the size of the groups to get a result you think is informative). For each group, examine the percentage error. You can make a table or graph. Summarize the results. Is there a correlation between higher magnitude scores and accuracy?"
   ]
  },
  {
   "cell_type": "code",
   "execution_count": 21,
   "metadata": {
    "collapsed": false
   },
   "outputs": [
    {
     "data": {
      "text/plain": [
       "0.146"
      ]
     },
     "execution_count": 21,
     "metadata": {},
     "output_type": "execute_result"
    }
   ],
   "source": [
    "get_err(bag_test,label_test,w_opt)"
   ]
  },
  {
   "cell_type": "code",
   "execution_count": 22,
   "metadata": {
    "collapsed": false
   },
   "outputs": [
    {
     "data": {
      "text/html": [
       "<div>\n",
       "<table border=\"1\" class=\"dataframe\">\n",
       "  <thead>\n",
       "    <tr style=\"text-align: right;\">\n",
       "      <th></th>\n",
       "      <th>score</th>\n",
       "      <th>label</th>\n",
       "      <th>prediction</th>\n",
       "      <th>err</th>\n",
       "    </tr>\n",
       "    <tr>\n",
       "      <th>score</th>\n",
       "      <th></th>\n",
       "      <th></th>\n",
       "      <th></th>\n",
       "      <th></th>\n",
       "    </tr>\n",
       "  </thead>\n",
       "  <tbody>\n",
       "    <tr>\n",
       "      <th>(-0.13, -0.0942]</th>\n",
       "      <td>-0.639351</td>\n",
       "      <td>-6</td>\n",
       "      <td>-6</td>\n",
       "      <td>0</td>\n",
       "    </tr>\n",
       "    <tr>\n",
       "      <th>(-0.0942, -0.0583]</th>\n",
       "      <td>-1.200837</td>\n",
       "      <td>-17</td>\n",
       "      <td>-17</td>\n",
       "      <td>0</td>\n",
       "    </tr>\n",
       "    <tr>\n",
       "      <th>(-0.0583, -0.0225]</th>\n",
       "      <td>-3.739737</td>\n",
       "      <td>-86</td>\n",
       "      <td>-98</td>\n",
       "      <td>6</td>\n",
       "    </tr>\n",
       "    <tr>\n",
       "      <th>(-0.0225, 0.0133]</th>\n",
       "      <td>-0.944961</td>\n",
       "      <td>-52</td>\n",
       "      <td>-58</td>\n",
       "      <td>51</td>\n",
       "    </tr>\n",
       "    <tr>\n",
       "      <th>(0.0133, 0.0491]</th>\n",
       "      <td>3.668644</td>\n",
       "      <td>97</td>\n",
       "      <td>129</td>\n",
       "      <td>16</td>\n",
       "    </tr>\n",
       "    <tr>\n",
       "      <th>(0.0491, 0.0849]</th>\n",
       "      <td>2.900281</td>\n",
       "      <td>46</td>\n",
       "      <td>46</td>\n",
       "      <td>0</td>\n",
       "    </tr>\n",
       "    <tr>\n",
       "      <th>(0.0849, 0.121]</th>\n",
       "      <td>1.012267</td>\n",
       "      <td>10</td>\n",
       "      <td>10</td>\n",
       "      <td>0</td>\n",
       "    </tr>\n",
       "    <tr>\n",
       "      <th>(0.121, 0.157]</th>\n",
       "      <td>0.141251</td>\n",
       "      <td>1</td>\n",
       "      <td>1</td>\n",
       "      <td>0</td>\n",
       "    </tr>\n",
       "    <tr>\n",
       "      <th>(0.157, 0.192]</th>\n",
       "      <td>NaN</td>\n",
       "      <td>NaN</td>\n",
       "      <td>NaN</td>\n",
       "      <td>NaN</td>\n",
       "    </tr>\n",
       "    <tr>\n",
       "      <th>(0.192, 0.228]</th>\n",
       "      <td>0.228237</td>\n",
       "      <td>1</td>\n",
       "      <td>1</td>\n",
       "      <td>0</td>\n",
       "    </tr>\n",
       "  </tbody>\n",
       "</table>\n",
       "</div>"
      ],
      "text/plain": [
       "                       score  label  prediction  err\n",
       "score                                               \n",
       "(-0.13, -0.0942]   -0.639351     -6          -6    0\n",
       "(-0.0942, -0.0583] -1.200837    -17         -17    0\n",
       "(-0.0583, -0.0225] -3.739737    -86         -98    6\n",
       "(-0.0225, 0.0133]  -0.944961    -52         -58   51\n",
       "(0.0133, 0.0491]    3.668644     97         129   16\n",
       "(0.0491, 0.0849]    2.900281     46          46    0\n",
       "(0.0849, 0.121]     1.012267     10          10    0\n",
       "(0.121, 0.157]      0.141251      1           1    0\n",
       "(0.157, 0.192]           NaN    NaN         NaN  NaN\n",
       "(0.192, 0.228]      0.228237      1           1    0"
      ]
     },
     "execution_count": 22,
     "metadata": {},
     "output_type": "execute_result"
    }
   ],
   "source": [
    "scores = []\n",
    "for bag in bag_test:\n",
    "    score = dotProduct(w_opt, bag)\n",
    "    scores.append(score)\n",
    "\n",
    "score_df=pd.DataFrame(zip(scores,label_test))\n",
    "score_df.columns=('score','label')\n",
    "score_df['prediction']=np.sign(score_df['score'])\n",
    "score_df['err']= map(lambda x:int(x),score_df['label']!=score_df['prediction'])\n",
    "groups = score_df.groupby(pd.cut(score_df.score,10))\n",
    "groups.sum()"
   ]
  },
  {
   "cell_type": "markdown",
   "metadata": {},
   "source": [
    "> __ANSWER__\n",
    "\n",
    "> Scores $\\in [-0.0583,0.0491]$ has most percentage error. So the larger the magitude of score, the more accurate the prediction is."
   ]
  },
  {
   "cell_type": "markdown",
   "metadata": {},
   "source": [
    "6.8. [Optional] Our objective is not differentiable when $w^Tx_i=0$. Investigate how often and when we have $w^Tx_i=0$. Describe your findings. If we didn’t know about subgradients, one might suggest just skipping the update when $w^Tx_i=0$. Does this seem reasonable?"
   ]
  },
  {
   "cell_type": "markdown",
   "metadata": {},
   "source": [
    "### 7. Error Analysis\n",
    "Choose some examples that the model got wrong. List the features that contributed most heavily to the descision (e.g. rank them by $\\|w_ix_i\\|$), along with $x_i$, $w_i$, $xw_i$. Do you understand why the model was incorrect? Can you think of a new feature that might be able to fix the issue? Include a short analysis for at least 2 incorrect examples"
   ]
  },
  {
   "cell_type": "markdown",
   "metadata": {},
   "source": [
    "> __ANSWER__\n",
    "\n",
    "> The first misclassified test file is cv580_14064.txt. It's a really strange review, the author holds an almost neutral attitude and even don't recommend at the last. The word \"this\" and \"movie\" classified as negative, which will help if we remove them.\n",
    "\n",
    "> The second file contains many \"and\" and \"the\". We may want to remove these stopwords to improve it.\n",
    "\n"
   ]
  },
  {
   "cell_type": "code",
   "execution_count": 23,
   "metadata": {
    "collapsed": false
   },
   "outputs": [],
   "source": [
    "def example_analysis(i):\n",
    "    print(\"File\",ids_test[i])\n",
    "    print(\"True sentiment: \",label_test[i], \n",
    "          \".  Predicted sentiment: \",wrong.loc[i,'prediction'], \n",
    "          \". Score: \", wrong.loc[i,\"score\"])\n",
    "    f = open(wrong.loc[i,'name'])\n",
    "    lines = f.read()\n",
    "    print(lines)\n",
    "    bow = bag_test[i]\n",
    "    feature_dict = {}\n",
    "    for key in bow:\n",
    "        w=w_opt[key] if (key in w_opt.keys()) else np.nan\n",
    "        x=bow[key]\n",
    "        feature_dict[key]={'abs_xw':abs(x*w),'x':x,'w':w,'xw':x*w}\n",
    "    feature_df = pd.DataFrame.from_dict(feature_dict,'index')\n",
    "    print(feature_df.sort('abs_xw',ascending=False)[:10],\"\\n\")"
   ]
  },
  {
   "cell_type": "code",
   "execution_count": 24,
   "metadata": {
    "collapsed": false
   },
   "outputs": [
    {
     "name": "stderr",
     "output_type": "stream",
     "text": [
      "/usr/local/lib/python2.7/site-packages/ipykernel/__main__.py:19: SettingWithCopyWarning: \n",
      "A value is trying to be set on a copy of a slice from a DataFrame.\n",
      "Try using .loc[row_indexer,col_indexer] = value instead\n",
      "\n",
      "See the caveats in the documentation: http://pandas.pydata.org/pandas-docs/stable/indexing.html#indexing-view-versus-copy\n",
      "/usr/local/lib/python2.7/site-packages/ipykernel/__main__.py:16: FutureWarning: sort(columns=....) is deprecated, use sort_values(by=.....)\n"
     ]
    },
    {
     "name": "stdout",
     "output_type": "stream",
     "text": [
      "File cv580_14064.txt\n",
      "True sentiment:  1 .  Predicted sentiment:  -1.0 . Score:  -0.0267329768936\n",
      "this movie was one of the first american films done by director paul verhoeven . \n",
      "he has done films since then such as basic instict and starship troopers . \n",
      "all of his movies have one main thing in common- they don't skimp on the violence . \n",
      "in a verhoeven movie a guy doesn't get shot once in the chest- he gets shot many times all over the body . \n",
      "robocop takes place in detroit in the future . \n",
      "things are pretty bleak . \n",
      "the company ocp rules the city with an iron fist and is moving in on running the police force . \n",
      "peter weller plays a cop who goes on a mission with his partner , nancy allen . \n",
      "peter weller goes in an empty room alone and gets killed . \n",
      "meanwhile ocp has a failed demonstration of a ed-209 model robot crime fighter . \n",
      "someone comes up with the idea of having a cyborg robocop so they use any parts worth scalvaging from peter weller and make him into the robocop the movie is titled after . \n",
      "the plot of this movie generally runs at a decent pace . \n",
      "it drags a bit towards the end with robocop wanting to finish everybody off , but plot twists keep it exciting . \n",
      "the acting is bad from weller when he is human , but very good when he is robocop . \n",
      "nancy allen does a decent job . \n",
      "this movie doesn't leave itself open for a sequel exactly . \n",
      "but they made one anyway . \n",
      "enter . . . \n",
      "robocop 2 starring : peter weller and nancy allen directed by : irvin kershner \n",
      "detroit is in a more bleak state than it was in the first film . \n",
      "ocp is trying to develop an improved 'robocop 2' that will be more than a match for criminals . \n",
      "most of the police force is on strike due to ocp taking it over , leaving robocop to be the police force in the city . \n",
      "this film is pretty bizaare . \n",
      "it has a 13 year-old drug-lord who curses as much as eddie murphy , even more violence than the original , and some more humor . \n",
      "the plot of this movie is pretty large , almost too much so . \n",
      "there are three or four plot lines weaving around that don't really match up . \n",
      "the effects are still decent though . \n",
      "this sequel isn't more of the same really , just a darker version robocop dealing more with drugs than with armed criminals . \n",
      "if you liked the first one , watch this . \n",
      "but be dissapointed . \n",
      "so later comes . . . \n",
      "robocop 3 starring nancy allen and robert john burke \n",
      "ocp is now owned by a large japanese company . \n",
      "robocop joins a band of rebels to counter-attack the evil empire , i mean ocp . \n",
      "the japanese send a cyborg-ninja to deal with robocop . \n",
      "among other things . . . \n",
      "this movie is easier to follow than the last one . \n",
      "which means the plot isn't quite as crowded . \n",
      "this movie isn't anything special though . \n",
      "just more of robocop blasting things up in a more kid-friendly way . \n",
      "really not reccomended . \n",
      "\n",
      "         x         w    abs_xw        xw\n",
      "plot     5 -0.002187  0.010933 -0.010933\n",
      "this     9 -0.000987  0.008880 -0.008880\n",
      "and      7  0.001253  0.008773  0.008773\n",
      "the     27  0.000307  0.008280  0.008280\n",
      "he       4  0.001413  0.005653  0.005653\n",
      "on       4 -0.001200  0.004800 -0.004800\n",
      "bad      1 -0.004760  0.004760 -0.004760\n",
      "movie    8 -0.000453  0.003627 -0.003627\n",
      "though   2  0.001800  0.003600  0.003600\n",
      "is      12  0.000293  0.003520  0.003520 \n",
      "\n",
      "File cv041_22364.txt\n",
      "True sentiment:  -1 .  Predicted sentiment:  1.0 . Score:  0.00106665244463\n",
      "out of sight director steven sorderbergh baffles the hell out of us all in the limey , a cold , uninvolving , confusing new thriller . \n",
      "though the plot description may at first seem like it came from the pen of elmore leonard ( author of out of sight , as well as jackie brown , get shorty and pulp fiction ) , after you watch it , you realize that it's not nearly good enough . \n",
      "in an aggressively non-linear fashion , the limey ( li * mey , noun : an english gentleman ) tells the story of wilson ( terrence stamp ) , a british ex-con just released from a 9 year stint in prison for armed robbery . \n",
      "he has come to the us to seek vengeance for the death of his daughter jenny . \n",
      "he doesn't know much about the circumstances of her demise , all he has is a name : terry valentine . \n",
      "valentine was jenny's former boyfriend , a wealthy and corrupt record executive . \n",
      "he's played by peter fonda , in his first major role since the terrific ulee's gold in 1997 . \n",
      "seeking valentine's reclusive place of residence turns out to be no easy task for wilson . \n",
      "he finally finds the impressive abode high in the mountains and sneaks in just as valentine is having a big party . \n",
      "he winds up breaking his cover eventually , setting off valentine's head of security and valentine himself , who decides to run for it . \n",
      "what a mess . \n",
      "i have no problem when films refuse to be constricted by the linearity of time -- pulp fiction , which twisted time every which way , was a masterpiece -- but i do take exception to movies that decide to play around with it for no reason other than to confuse the viewer . \n",
      "the limey does exactly that . \n",
      "the plot is permeated with flashbacks , flash-forwards and what can only be described as random time-travel , without any evident purpose . \n",
      "there is no method to this movie's madness . \n",
      "it uses a fancy way to tell a story that would be better off told more conventionally and more comprehendably . \n",
      "the plot isn't particularly interesting in the first place : traditional , mildly hackneyed and not very involving . \n",
      "this is a sort of brooding film -- our protagonist doesn't speak much and the action sequences are done with an annoyingly perfunctory attitude . \n",
      "i felt like the director wasn't very interested in the proceedings himself , almost like he made this film for a paycheck . \n",
      "ditto for the editing , which seems to be deliberately sloppy and unpleasant . \n",
      "sixties icon terrence stamp manages to at least be menacing as the aging criminal . \n",
      "he's not much in the way of stature but he has a surprisingly imposing physical presence that works to his advantage here . \n",
      "peter fonda is an unbelievably underrated actor : he's shy , quiet but always effective . \n",
      "he's adept at conveying emotions through speech rather than expression : his feelings don't always show on his face by you can always tell what they are . \n",
      "this is basically a conventional thriller told in a pretentiously bizarre fashion . \n",
      "why soderbergh couldn't just parrot down and tell a story , i don't know , but what he does do certainly doesn't work . \n",
      "the result is a wild cornucopia of images that amount to precisely nil -- even the action scenes don't work . \n",
      "1999 may have signified the death of the traditional act one - act two - act three storyline , but obviously some movies have not yet transcended it . \n",
      "shall we go back to basics ? \n",
      "\n",
      "       x         w    abs_xw        xw\n",
      "and   10  0.001253  0.012533  0.012533\n",
      "he     8  0.001413  0.011307  0.011307\n",
      "the   28  0.000307  0.008587  0.008587\n",
      "no     4 -0.001787  0.007147 -0.007147\n",
      "plot   3 -0.002187  0.006560 -0.006560\n",
      "to    15 -0.000413  0.006200 -0.006200\n",
      "way    3  0.001773  0.005320  0.005320\n",
      "what   4  0.001213  0.004853  0.004853\n",
      "have   3 -0.001533  0.004600 -0.004600\n",
      "you    3  0.001467  0.004400  0.004400 \n",
      "\n",
      "File cv605_12730.txt\n",
      "True sentiment:  -1 .  Predicted sentiment:  1.0 . Score:  0.0272263036493\n",
      "a fullyloaded entertainment review : website coming soon ! \n",
      "hunter s . thompson's fear and loathing in las vegas , written in 1971 , is already an american classic ; not merely because it was an unadulterated journey through the post-psychedelia of the 1960's , but also because it ushered in a new form of journalism known as \" gonzo \" . \n",
      "soon after the book was written , hunter s . thomspon became the basis for a character in doonesbury known as uncle duke . \n",
      "and that is the problem with fear and loathing in las vegas ( the movie . ) \n",
      "although the book is one of my favorites , i now agree with thompson's own assessment of the novel as \" unfilmable . \" \n",
      "the main problem is that the book , although detailing wild drug use and tripped-out adventures , was not written on the road . \n",
      "it was written and edited by hunter s . thomspons , relatively sober , at his home . \n",
      "so although the book depicts drug use and still more drug use , it is told with a sense of aloofness and some humor . \n",
      "hunter s . thomspon , the narrator , while always drugged out , still has a grip on reality , and can still tell , with journalistic ability , what is going on around him . \n",
      "not so with the characters in fear and loathing in las vegas . \n",
      "despite name changes and one minor scene from the book dropped , the movie is an exact duplicate of the book , in terms of dialouge . \n",
      "unfortunately , this can get annoying , in the form of johnny depp's ( who plays thompson ) excessive narration . \n",
      "and the characters , while having vivid personalities , are played as 2-d characers on the screen : dr . raoul duke ( johnny depp , the name raoul duke was an alias of thompson's ) and his riding companion , dr . gonzo ( benicio del toro ) , who is a large samoan lawyer , have no personalities or emotions at all , save for stoned . \n",
      "the film is very faithful to the plot ( what there is ) of the book , in that dr . raoul duke is sent by sports illustrated to cover the mint 400 , and takes along not only his samoan lawyer but also car trunk full of drugs . \n",
      "from there , one set of stoned adventures after another happens , including one of the few good scenes in which depp , high on acid , watches all the people in the bar around him turn into , literally , lounge lizards . \n",
      "while the movie has its moments ( few ) , it is almost unwatchable at parts , especially towards the end . \n",
      "despite a lot of celebrity cameos , the stars never get off the ground . \n",
      "the set decoration and costumes are great , and probably deserve an oscar nomination . \n",
      "however , as we all know , it's not sets or effects that make a movie , its the characters ; and quite frankly , these characters are no good . \n",
      "\n",
      "        x         w    abs_xw        xw\n",
      "and    16  0.001253  0.020053  0.020053\n",
      "the    34  0.000307  0.010427  0.010427\n",
      "s       4 -0.001547  0.006187 -0.006187\n",
      "on      5 -0.001200  0.006000 -0.006000\n",
      "also    2  0.002173  0.004347  0.004347\n",
      "book    7  0.000613  0.004293  0.004293\n",
      "an      5 -0.000840  0.004200 -0.004200\n",
      "no      2 -0.001787  0.003573 -0.003573\n",
      "is     12  0.000293  0.003520  0.003520\n",
      "while   3  0.001173  0.003520  0.003520 \n",
      "\n",
      "File cv893_26269.txt\n",
      "True sentiment:  1 .  Predicted sentiment:  -1.0 . Score:  -0.00251996640045\n",
      "let me open this one with a confession : i love cop movies . \n",
      "i adore them with such an unwavering , near foolish passion that i was actually one of the first in line to see 1998's one tough cop starring the smirkiest of the baldwin brothers , steven . \n",
      "was it any good ? \n",
      "well , just about as good as baldwin's steven seagal impression ( for those i've confused the answer is a resounding no ! ) . \n",
      "now let me clarify , i don't love just any cop movie ; i'm not too keen on the smug buddy cop flicks that were so in vogue in the 80's and now slowly ( gulp ) returning thanks to jackie chan and chris tucker . \n",
      "i'm partial to those gritty , earthy cop dramas like serpico , donnie brasco , and the french connection . \n",
      "problem is these films come along just about as often as george w . bush makes a cogent point so whenever a \" true \" cop movie does hit multiplexes , i come running towards it like an eager puppy ? ? ? and inevitably i leave , head bowed , tripping over my squiggly tail . \n",
      "so what is it about cop movies that transform me into a moron willing to shell out $7 . 50 for a movie called one tough cop ( which actually sounds a lot like a wiseguy spin-off , no ? ) ? \n",
      "truth is i'm a sucker for those barren streets , that gritty , graffiti strewn modernist jungle where dangerous criminals lurk and cops , like modern day knights , must shield us from their iniquitous clutches . \n",
      "yes it's all very corny and awfully boys clubish , which , i'm guessing , is precisely where these feelings come from . \n",
      "as little tots us boys are brought up to create our own wars with gi joe's , enact cops and robbers or cowboy and indian fantasies , etc . the best gritty cop films tap into those gleeful adolescent fantasies , and heighten them , turning it all into an existential nightmare of thin moral lines and psychological chaos . \n",
      "as an adult my tastes haven't changed all that drastically ; sure i can get a cerebral high from the emotional complexities of a krzysztof kieslowski film , but i still delight at the promise a \" guy \" film could potentially bring . \n",
      "now what if it's the cops who're the corrupt ones ? \n",
      "ooh that one really gets me going , these protectors using all that at their service , taking advantage of others for their own gain . \n",
      "throw a courtroom drama ( yech ! ) \n",
      "into the pot and you have the tremendously absorbing sidney lumet film prince of the city . \n",
      "how absorbing is prince of the city , you ask ? \n",
      "so damn absorbing that when the film shifts from gritty undercover cop drama to courtroom drama ( a sub-genre i loath the way kristy swanson must loath sarah michelle gellar ) i remained completely and utterly involved . \n",
      "the film stars treat williams , who gives the kind of performance that should have skyrocketed his career up to the level that brad pitt currently resides at . \n",
      "since i was hatched a mere two years prior to the release of prince of the city , i cannot provide an answer as to why it didn't . \n",
      " ( though judging from his recent roles in tripe like deep rising and dead heat i would guess that it probably has something to do with quite a few bad career moves ) . \n",
      "like mickey rourke and eric roberts ( both of whom are currently doing time in direct to video purgatory ) williams is a talented leading man who didn't make it to where he should have . \n",
      " ( if there was any justice in this dog gone world keanu reeves would be the one banished to direct to video hell ) . \n",
      "here , the actor is given a role not all that dissimilar from al pacino's in serpico ( also directed by lumet ) . \n",
      "williams plays danny ciello , a member of an elite squad of police officers who take down drug dealers on the gritty pre-juliani streets of new york . \n",
      "they work without uniforms or hours much like paid vigilantes . \n",
      "and that analogy is more than apt seeing as how the bunch are kinda sorta forced into using corrupt means to get the job done . \n",
      "the squad relies entirely on informants ( low level junkies ) to gain access to the big wigs , and in order to obtain the info they seek , they sometimes have to provide the junkies with the junk of their choice . \n",
      "danny has done this , and though he's a fairly honorable guy , who took the job in order to do good , his intentions have gotten a bit skewed along the way . \n",
      "he seeks redemption and concludes that the best way to go about getting it is by talking to internal affairs who then convince him to go undercover as a \" double agent \" . \n",
      "he does so with one condition : he will not rat on his partners . \n",
      "right away we know that that is exactly what he'll have to do . \n",
      "and watching the movie build to that is thrilling in the way that any great character driven story can be . \n",
      "undercover cop films are almost innately exciting , even the kind that pull out all the cliches ( like in too deep ) . \n",
      "how can one not be moved by the issues of betrayal , ambiguity , and the danger in putting oneself in such a risky position ? \n",
      "prince of the city takes all this and charges it with a perceptive , hard boiled script and taut unintrusive direction by old pro sidney lumet , as well as a handful of intense performances , most notably by treat . \n",
      "lumet's greatest contribution to the movie is how he lays back , and lets the camera soak up the action . \n",
      "his scenes transition rapidly from one to the next building layers of tension , and he rarely holds for reaction shots , instead he clicks away at precisely the moment a character stops yakking . \n",
      "lumet's worst tendency is one that many film makers ( especially oliver stone ) tend to overuse : he relies a little too heavily on actors shouting their lines at each other presumably in order to ratchet up the tension . \n",
      "this isn't as much a problem here as it was in night falls on manhattan , lumet's most recent cop \\ lawyer endeavor , a movie that nearly gave me an ulcer from just watching . \n",
      "though of late lumet has made several really awful career choices ( maybe he and treat should get together for a drink or something ) , the most recent a completely unnecessary remake of gloria , here he was on , sustaining tension in a film that runs for 167 minutes with not one dull spot . \n",
      "some of the formula pictures i like the best are the most simplistic . \n",
      "hollywood often forgets how easy it is to make these kinds of pictures even tolerable . \n",
      "of course cop movies aren't popular anymore ( yes buddy cop flicks are popular but those are more like extended sitcoms with gunfire amid the punch lines ) , but just look at the average hollywood action movies , flicks so bloated and full of unnecessary fat like the boring love interest that serves no purpose other than to stall the action and demonstrate that our hero isn't gay , the lame comic relief character who's never funny , and on and on . \n",
      "for all its moral ambiguities prince of the city is a back to the basics cop \\ courtroom drama that leaves out all the crap and really thrills . \n",
      "it focuses completely on its story , and its characters all of whom are completely believable from the cops to the lawyers to the junkies . \n",
      "there's a great scene early on where an irate williams shouts at an ia officer and looks as if he's about to go into one of those corny braveheart inspirational speeches , but instead he breaks down in front of the cop and begins sobbing . \n",
      "this is a scene that would never make it into a michael bay film ( even though bruce willis sacrifices his life at the end of armageddon , not one damn tear ) it would be cut out because the director would say oh that makes him too human , excuse me , weak . \n",
      "in the very next scene danny speaks in a hushed raspiness , straining to get the words out . \n",
      "he's lost his voice . \n",
      "does that little itty bitty detail matter ? \n",
      "maybe not to most , but it sure made my night . \n",
      "and in a sprawling epic of corruption , greed , betrayal and violence it's nice to see that someone is paying attention to the little things . \n",
      "\n",
      "       x         w    abs_xw        xw\n",
      "and   35  0.001253  0.043866  0.043866\n",
      "the   70  0.000307  0.021466  0.021466\n",
      "to    39 -0.000413  0.016120 -0.016120\n",
      "he    11  0.001413  0.015546  0.015546\n",
      "on    11 -0.001200  0.013200 -0.013200\n",
      "all   10 -0.001040  0.010400 -0.010400\n",
      "most   5  0.001960  0.009800  0.009800\n",
      "have   6 -0.001533  0.009200 -0.009200\n",
      "at     8 -0.001133  0.009067 -0.009067\n",
      "like  11 -0.000800  0.008800 -0.008800 \n",
      "\n",
      "File cv828_19831.txt\n",
      "True sentiment:  1 .  Predicted sentiment:  -1.0 . Score:  -0.0109331875575\n",
      "all those who were offended by there's something about mary should not tread in the waters of american pie , a gratuitously sexual rollercoaster ride of raunch . \n",
      "and while this uproariously funny , gross-out summer movie is basically an exercise in bad taste , it also demonstrates a surprising sweetness in the end . \n",
      "american pie is the latest entry to the offensive teenage-targeted fare this season . \n",
      "i must question the studio that releases a movie like this . \n",
      "the producers are aiming these films at the 15-24 crowd , but while pushing the limit of possible sex and violence in an r-rated film . \n",
      "some have even been narrowly avoiding the dreaded nc-17 , a rating the mpaa gives when the adult content surpasses even that of a restricted movie . \n",
      "american pie was threatened with an nc-17 , but after snipping a few scenes from the finished product , it was given an r . but at least this new addition is not as careless and unforgiving as something like south park . \n",
      "it is sick , perverse , and ultimately disgusting - not to mention extremely funny . \n",
      "american pie is about four desperate teenagers who make a pact to lose their virginity by prom night . \n",
      "jim ( jason biggs ) , kevin ( thomas ian nicholas ) , oz ( chris klein ) and finch ( eddie kaye thomas ) are a quartet of high school students in their senior year who think sex is something they must experience to be successful in their lives ahead . \n",
      "jim inquires what it feels like when you reach third base , to which one of his friends replies : `like warm apple pie . . . ' . \n",
      "of course , this prompts the scene unfairly exposed in the trailers , in which jim and a freshly baked pie have a very intimate moment in the kitchen corner . \n",
      "there are many moments , such as this , in which director paul weitz uses a game-plan similar to the one frequently displayed in mary : to cause the audience to break down laughing in disgusting disbelief . \n",
      "american pie is a hard-fought effort that has replenishing rewards if you manage to stick with it . \n",
      "i loved the young cast in this movie . \n",
      "consider the subject matter that these actors have dealt with , obviously suggestiveness never rivaled in any of their previous projects , and you should appreciate their performances . \n",
      "biggs is more than enjoyable , and chris klein ( who recently played a similar jock in election ) is obviously a young talent on the rise . \n",
      "but in a teen-dominated movie , the best performance comes from comedian eugene levy ( of television's sctv ) , who is unexpectedly brilliant as jim's uneasy father . \n",
      "scenes in which the familiar father-son conversations are brought to interesting new levels are the funniest moments to be found in american pie . \n",
      "after levy discovers jim's new use for apple pie , he tells him , `i did a fare share of that sort of thing when i was your age . \n",
      "but i never used baked goods . ' \n",
      "it is performances such as his , and bill murray's in rushmore , that are often unfairly dismissed when awards are handed out . \n",
      "there are some less-than-original aspects of the film . \n",
      "a bathroom incident involving finch and a bottle of ex-lax is something we've seen before . \n",
      "if weitz is planning to take after the farrelly brothers , then this is a decidedly unwise move : the same prank was pulled in the brother's dumb and dumber , and used to greater effect . \n",
      "secondly , the characters are forced into a half-hearted climax that seems more artificial than amusing . \n",
      "but at one point , in which we discover that american pie does have a heart of it's own , biggs asks his buddies why he's going through so much pressure for something that's `not very important anyway . ' \n",
      "and so we realize that while the film is expressive about a subject that is hardly appropriate , it still manages to be mature . \n",
      "in it's own way . \n",
      "\n",
      "           x         w    abs_xw        xw\n",
      "and       13  0.001253  0.016293  0.016293\n",
      "the       29  0.000307  0.008893  0.008893\n",
      "american   7  0.001133  0.007933  0.007933\n",
      "this       8 -0.000987  0.007893 -0.007893\n",
      "have       4 -0.001533  0.006133 -0.006133\n",
      "to        14 -0.000413  0.005787 -0.005787\n",
      "bad        1 -0.004760  0.004760 -0.004760\n",
      "is        16  0.000293  0.004693  0.004693\n",
      "you        3  0.001467  0.004400  0.004400\n",
      "but        6 -0.000680  0.004080 -0.004080 \n",
      "\n"
     ]
    }
   ],
   "source": [
    "scores = []\n",
    "for bag in bag_test:\n",
    "    score = dotProduct(w_opt, bag)\n",
    "    scores.append(score)\n",
    "\n",
    "score_df=pd.DataFrame(zip(scores,label_test))\n",
    "score_df.columns=('score','label')\n",
    "score_df['prediction']=np.sign(score_df['score'])\n",
    "score_df['err']= map(lambda x:int(x),score_df['label']!=score_df['prediction'])\n",
    "wrong = score_df[score_df.err==1]\n",
    "wrong_name = []\n",
    "for w in wrong.iterrows():\n",
    "    if int(w[1].label)==1:\n",
    "        name = \"data/pos/\"\n",
    "    else:\n",
    "        name = \"data/neg/\"\n",
    "    name+=ids_test[w[0]]\n",
    "    wrong_name.append(name)\n",
    "wrong['name']=wrong_name\n",
    "for i in wrong.index[:5]:\n",
    "    example_analysis(i)"
   ]
  },
  {
   "cell_type": "markdown",
   "metadata": {},
   "source": [
    "### 8. Features"
   ]
  },
  {
   "cell_type": "markdown",
   "metadata": {},
   "source": [
    "8.1. Based on your error analysis, or on some idea you have, construct a new feature (or group of features) that you hope will improve your test performance. Describe the features and what kind of improvement they give. At this point, it’s important to consider the standard errors $\\sqrt{p(1 − p)/n}$ on your performance estimates, to know whether the improvement is statistically significant."
   ]
  },
  {
   "cell_type": "code",
   "execution_count": 25,
   "metadata": {
    "collapsed": true
   },
   "outputs": [],
   "source": [
    "def remove_stopwords(w):\n",
    "    '''\n",
    "    remove stopwords \n",
    "    Stopwords list from http://www.ranks.nl/stopwords\n",
    "    '''\n",
    "    f = open('stopwords.txt')\n",
    "    stopwords = f.read().split('\\n')\n",
    "    for k in stopwords:\n",
    "        w.pop(k, None)\n",
    "    return w"
   ]
  },
  {
   "cell_type": "code",
   "execution_count": 26,
   "metadata": {
    "collapsed": true
   },
   "outputs": [],
   "source": [
    "@timing\n",
    "def implemented_pegasos(X,y,W_init,Lambda,max_epoch,remove_stops=False):\n",
    "    m = len(X)\n",
    "    t=s=1\n",
    "    epoch=0\n",
    "    W = W_init.copy()\n",
    "    print(len(W))\n",
    "    if remove_stops:\n",
    "        W = remove_stopwords(W)\n",
    "    while epoch<max_epoch:\n",
    "        for j in range(m):\n",
    "            t+=1\n",
    "            step = 1/(t*Lambda)\n",
    "            s=(1-step*Lambda)*s\n",
    "            if( y[j]*dotProduct(W,X[j]) )<1:\n",
    "                W = increment(W,step*y[j]/s,X[j])\n",
    "        epoch+=1\n",
    "    #Scale w:\n",
    "    w={}\n",
    "    for f,v in W.items():\n",
    "        w[f]=v*s \n",
    "    return w"
   ]
  },
  {
   "cell_type": "code",
   "execution_count": 27,
   "metadata": {
    "collapsed": true
   },
   "outputs": [],
   "source": [
    "def initW(bags):\n",
    "    #     Get full dictionary\n",
    "    c = collections.Counter()\n",
    "    for review in bags:\n",
    "        c.update(review)\n",
    "    w = {}\n",
    "    for key,value in c.items():\n",
    "        w[key] = 0\n",
    "    return w"
   ]
  },
  {
   "cell_type": "code",
   "execution_count": 28,
   "metadata": {
    "collapsed": true
   },
   "outputs": [],
   "source": [
    "def evaluate_model(X,y,remove_stops=False, Lambda=0.1):\n",
    "    w = initW(X)\n",
    "    w_opt = implemented_pegasos(X,y,w,1,50,remove_stops)\n",
    "    pct_err = get_err(bag_test,label_test,w_opt)\n",
    "    std_err = np.sqrt(pct_err*(1-pct_err)/len(bag_test))\n",
    "    print(\"Percent Error: %f +/- %f\" %(pct_err,std_err))"
   ]
  },
  {
   "cell_type": "code",
   "execution_count": 29,
   "metadata": {
    "collapsed": false
   },
   "outputs": [],
   "source": [
    "bag_train,label_train,ids_train=lst2bag(train)\n",
    "bag_test,label_test,ids_test=lst2bag(test)"
   ]
  },
  {
   "cell_type": "code",
   "execution_count": 30,
   "metadata": {
    "collapsed": false
   },
   "outputs": [
    {
     "name": "stdout",
     "output_type": "stream",
     "text": [
      "Prediction without removing stopwords.\n",
      "41754\n",
      "implemented_pegasos function took 11244.202 ms\n",
      "Percent Error: 0.146000 +/- 0.015791\n"
     ]
    }
   ],
   "source": [
    "print('Prediction without removing stopwords.')\n",
    "evaluate_model(bag_train,label_train,False)"
   ]
  },
  {
   "cell_type": "code",
   "execution_count": 31,
   "metadata": {
    "collapsed": false
   },
   "outputs": [
    {
     "name": "stdout",
     "output_type": "stream",
     "text": [
      "Prediction after removing stopwords.\n",
      "41754\n",
      "implemented_pegasos function took 10364.115 ms\n",
      "Percent Error: 0.174000 +/- 0.016954\n"
     ]
    }
   ],
   "source": [
    "print('Prediction after removing stopwords.')\n",
    "evaluate_model(bag_train,label_train,True)"
   ]
  },
  {
   "cell_type": "code",
   "execution_count": 32,
   "metadata": {
    "collapsed": false,
    "scrolled": true
   },
   "outputs": [
    {
     "name": "stderr",
     "output_type": "stream",
     "text": [
      "/usr/local/lib/python2.7/site-packages/ipykernel/__main__.py:19: SettingWithCopyWarning: \n",
      "A value is trying to be set on a copy of a slice from a DataFrame.\n",
      "Try using .loc[row_indexer,col_indexer] = value instead\n",
      "\n",
      "See the caveats in the documentation: http://pandas.pydata.org/pandas-docs/stable/indexing.html#indexing-view-versus-copy\n",
      "/usr/local/lib/python2.7/site-packages/ipykernel/__main__.py:16: FutureWarning: sort(columns=....) is deprecated, use sort_values(by=.....)\n"
     ]
    },
    {
     "name": "stdout",
     "output_type": "stream",
     "text": [
      "File cv580_14064.txt\n",
      "True sentiment:  1 .  Predicted sentiment:  -1.0 . Score:  -0.0267329768936\n",
      "this movie was one of the first american films done by director paul verhoeven . \n",
      "he has done films since then such as basic instict and starship troopers . \n",
      "all of his movies have one main thing in common- they don't skimp on the violence . \n",
      "in a verhoeven movie a guy doesn't get shot once in the chest- he gets shot many times all over the body . \n",
      "robocop takes place in detroit in the future . \n",
      "things are pretty bleak . \n",
      "the company ocp rules the city with an iron fist and is moving in on running the police force . \n",
      "peter weller plays a cop who goes on a mission with his partner , nancy allen . \n",
      "peter weller goes in an empty room alone and gets killed . \n",
      "meanwhile ocp has a failed demonstration of a ed-209 model robot crime fighter . \n",
      "someone comes up with the idea of having a cyborg robocop so they use any parts worth scalvaging from peter weller and make him into the robocop the movie is titled after . \n",
      "the plot of this movie generally runs at a decent pace . \n",
      "it drags a bit towards the end with robocop wanting to finish everybody off , but plot twists keep it exciting . \n",
      "the acting is bad from weller when he is human , but very good when he is robocop . \n",
      "nancy allen does a decent job . \n",
      "this movie doesn't leave itself open for a sequel exactly . \n",
      "but they made one anyway . \n",
      "enter . . . \n",
      "robocop 2 starring : peter weller and nancy allen directed by : irvin kershner \n",
      "detroit is in a more bleak state than it was in the first film . \n",
      "ocp is trying to develop an improved 'robocop 2' that will be more than a match for criminals . \n",
      "most of the police force is on strike due to ocp taking it over , leaving robocop to be the police force in the city . \n",
      "this film is pretty bizaare . \n",
      "it has a 13 year-old drug-lord who curses as much as eddie murphy , even more violence than the original , and some more humor . \n",
      "the plot of this movie is pretty large , almost too much so . \n",
      "there are three or four plot lines weaving around that don't really match up . \n",
      "the effects are still decent though . \n",
      "this sequel isn't more of the same really , just a darker version robocop dealing more with drugs than with armed criminals . \n",
      "if you liked the first one , watch this . \n",
      "but be dissapointed . \n",
      "so later comes . . . \n",
      "robocop 3 starring nancy allen and robert john burke \n",
      "ocp is now owned by a large japanese company . \n",
      "robocop joins a band of rebels to counter-attack the evil empire , i mean ocp . \n",
      "the japanese send a cyborg-ninja to deal with robocop . \n",
      "among other things . . . \n",
      "this movie is easier to follow than the last one . \n",
      "which means the plot isn't quite as crowded . \n",
      "this movie isn't anything special though . \n",
      "just more of robocop blasting things up in a more kid-friendly way . \n",
      "really not reccomended . \n",
      "\n",
      "         x         w    abs_xw        xw\n",
      "plot     5 -0.002187  0.010933 -0.010933\n",
      "this     9 -0.000987  0.008880 -0.008880\n",
      "and      7  0.001253  0.008773  0.008773\n",
      "the     27  0.000307  0.008280  0.008280\n",
      "he       4  0.001413  0.005653  0.005653\n",
      "on       4 -0.001200  0.004800 -0.004800\n",
      "bad      1 -0.004760  0.004760 -0.004760\n",
      "movie    8 -0.000453  0.003627 -0.003627\n",
      "though   2  0.001800  0.003600  0.003600\n",
      "is      12  0.000293  0.003520  0.003520 \n",
      "\n",
      "File cv041_22364.txt\n",
      "True sentiment:  -1 .  Predicted sentiment:  1.0 . Score:  0.00106665244463\n",
      "out of sight director steven sorderbergh baffles the hell out of us all in the limey , a cold , uninvolving , confusing new thriller . \n",
      "though the plot description may at first seem like it came from the pen of elmore leonard ( author of out of sight , as well as jackie brown , get shorty and pulp fiction ) , after you watch it , you realize that it's not nearly good enough . \n",
      "in an aggressively non-linear fashion , the limey ( li * mey , noun : an english gentleman ) tells the story of wilson ( terrence stamp ) , a british ex-con just released from a 9 year stint in prison for armed robbery . \n",
      "he has come to the us to seek vengeance for the death of his daughter jenny . \n",
      "he doesn't know much about the circumstances of her demise , all he has is a name : terry valentine . \n",
      "valentine was jenny's former boyfriend , a wealthy and corrupt record executive . \n",
      "he's played by peter fonda , in his first major role since the terrific ulee's gold in 1997 . \n",
      "seeking valentine's reclusive place of residence turns out to be no easy task for wilson . \n",
      "he finally finds the impressive abode high in the mountains and sneaks in just as valentine is having a big party . \n",
      "he winds up breaking his cover eventually , setting off valentine's head of security and valentine himself , who decides to run for it . \n",
      "what a mess . \n",
      "i have no problem when films refuse to be constricted by the linearity of time -- pulp fiction , which twisted time every which way , was a masterpiece -- but i do take exception to movies that decide to play around with it for no reason other than to confuse the viewer . \n",
      "the limey does exactly that . \n",
      "the plot is permeated with flashbacks , flash-forwards and what can only be described as random time-travel , without any evident purpose . \n",
      "there is no method to this movie's madness . \n",
      "it uses a fancy way to tell a story that would be better off told more conventionally and more comprehendably . \n",
      "the plot isn't particularly interesting in the first place : traditional , mildly hackneyed and not very involving . \n",
      "this is a sort of brooding film -- our protagonist doesn't speak much and the action sequences are done with an annoyingly perfunctory attitude . \n",
      "i felt like the director wasn't very interested in the proceedings himself , almost like he made this film for a paycheck . \n",
      "ditto for the editing , which seems to be deliberately sloppy and unpleasant . \n",
      "sixties icon terrence stamp manages to at least be menacing as the aging criminal . \n",
      "he's not much in the way of stature but he has a surprisingly imposing physical presence that works to his advantage here . \n",
      "peter fonda is an unbelievably underrated actor : he's shy , quiet but always effective . \n",
      "he's adept at conveying emotions through speech rather than expression : his feelings don't always show on his face by you can always tell what they are . \n",
      "this is basically a conventional thriller told in a pretentiously bizarre fashion . \n",
      "why soderbergh couldn't just parrot down and tell a story , i don't know , but what he does do certainly doesn't work . \n",
      "the result is a wild cornucopia of images that amount to precisely nil -- even the action scenes don't work . \n",
      "1999 may have signified the death of the traditional act one - act two - act three storyline , but obviously some movies have not yet transcended it . \n",
      "shall we go back to basics ? \n",
      "\n",
      "       x         w    abs_xw        xw\n",
      "and   10  0.001253  0.012533  0.012533\n",
      "he     8  0.001413  0.011307  0.011307\n",
      "the   28  0.000307  0.008587  0.008587\n",
      "no     4 -0.001787  0.007147 -0.007147\n",
      "plot   3 -0.002187  0.006560 -0.006560\n",
      "to    15 -0.000413  0.006200 -0.006200\n",
      "way    3  0.001773  0.005320  0.005320\n",
      "what   4  0.001213  0.004853  0.004853\n",
      "have   3 -0.001533  0.004600 -0.004600\n",
      "you    3  0.001467  0.004400  0.004400 \n",
      "\n",
      "File cv605_12730.txt\n",
      "True sentiment:  -1 .  Predicted sentiment:  1.0 . Score:  0.0272263036493\n",
      "a fullyloaded entertainment review : website coming soon ! \n",
      "hunter s . thompson's fear and loathing in las vegas , written in 1971 , is already an american classic ; not merely because it was an unadulterated journey through the post-psychedelia of the 1960's , but also because it ushered in a new form of journalism known as \" gonzo \" . \n",
      "soon after the book was written , hunter s . thomspon became the basis for a character in doonesbury known as uncle duke . \n",
      "and that is the problem with fear and loathing in las vegas ( the movie . ) \n",
      "although the book is one of my favorites , i now agree with thompson's own assessment of the novel as \" unfilmable . \" \n",
      "the main problem is that the book , although detailing wild drug use and tripped-out adventures , was not written on the road . \n",
      "it was written and edited by hunter s . thomspons , relatively sober , at his home . \n",
      "so although the book depicts drug use and still more drug use , it is told with a sense of aloofness and some humor . \n",
      "hunter s . thomspon , the narrator , while always drugged out , still has a grip on reality , and can still tell , with journalistic ability , what is going on around him . \n",
      "not so with the characters in fear and loathing in las vegas . \n",
      "despite name changes and one minor scene from the book dropped , the movie is an exact duplicate of the book , in terms of dialouge . \n",
      "unfortunately , this can get annoying , in the form of johnny depp's ( who plays thompson ) excessive narration . \n",
      "and the characters , while having vivid personalities , are played as 2-d characers on the screen : dr . raoul duke ( johnny depp , the name raoul duke was an alias of thompson's ) and his riding companion , dr . gonzo ( benicio del toro ) , who is a large samoan lawyer , have no personalities or emotions at all , save for stoned . \n",
      "the film is very faithful to the plot ( what there is ) of the book , in that dr . raoul duke is sent by sports illustrated to cover the mint 400 , and takes along not only his samoan lawyer but also car trunk full of drugs . \n",
      "from there , one set of stoned adventures after another happens , including one of the few good scenes in which depp , high on acid , watches all the people in the bar around him turn into , literally , lounge lizards . \n",
      "while the movie has its moments ( few ) , it is almost unwatchable at parts , especially towards the end . \n",
      "despite a lot of celebrity cameos , the stars never get off the ground . \n",
      "the set decoration and costumes are great , and probably deserve an oscar nomination . \n",
      "however , as we all know , it's not sets or effects that make a movie , its the characters ; and quite frankly , these characters are no good . \n",
      "\n",
      "        x         w    abs_xw        xw\n",
      "and    16  0.001253  0.020053  0.020053\n",
      "the    34  0.000307  0.010427  0.010427\n",
      "s       4 -0.001547  0.006187 -0.006187\n",
      "on      5 -0.001200  0.006000 -0.006000\n",
      "also    2  0.002173  0.004347  0.004347\n",
      "book    7  0.000613  0.004293  0.004293\n",
      "an      5 -0.000840  0.004200 -0.004200\n",
      "no      2 -0.001787  0.003573 -0.003573\n",
      "is     12  0.000293  0.003520  0.003520\n",
      "while   3  0.001173  0.003520  0.003520 \n",
      "\n",
      "File cv893_26269.txt\n",
      "True sentiment:  1 .  Predicted sentiment:  -1.0 . Score:  -0.00251996640045\n",
      "let me open this one with a confession : i love cop movies . \n",
      "i adore them with such an unwavering , near foolish passion that i was actually one of the first in line to see 1998's one tough cop starring the smirkiest of the baldwin brothers , steven . \n",
      "was it any good ? \n",
      "well , just about as good as baldwin's steven seagal impression ( for those i've confused the answer is a resounding no ! ) . \n",
      "now let me clarify , i don't love just any cop movie ; i'm not too keen on the smug buddy cop flicks that were so in vogue in the 80's and now slowly ( gulp ) returning thanks to jackie chan and chris tucker . \n",
      "i'm partial to those gritty , earthy cop dramas like serpico , donnie brasco , and the french connection . \n",
      "problem is these films come along just about as often as george w . bush makes a cogent point so whenever a \" true \" cop movie does hit multiplexes , i come running towards it like an eager puppy ? ? ? and inevitably i leave , head bowed , tripping over my squiggly tail . \n",
      "so what is it about cop movies that transform me into a moron willing to shell out $7 . 50 for a movie called one tough cop ( which actually sounds a lot like a wiseguy spin-off , no ? ) ? \n",
      "truth is i'm a sucker for those barren streets , that gritty , graffiti strewn modernist jungle where dangerous criminals lurk and cops , like modern day knights , must shield us from their iniquitous clutches . \n",
      "yes it's all very corny and awfully boys clubish , which , i'm guessing , is precisely where these feelings come from . \n",
      "as little tots us boys are brought up to create our own wars with gi joe's , enact cops and robbers or cowboy and indian fantasies , etc . the best gritty cop films tap into those gleeful adolescent fantasies , and heighten them , turning it all into an existential nightmare of thin moral lines and psychological chaos . \n",
      "as an adult my tastes haven't changed all that drastically ; sure i can get a cerebral high from the emotional complexities of a krzysztof kieslowski film , but i still delight at the promise a \" guy \" film could potentially bring . \n",
      "now what if it's the cops who're the corrupt ones ? \n",
      "ooh that one really gets me going , these protectors using all that at their service , taking advantage of others for their own gain . \n",
      "throw a courtroom drama ( yech ! ) \n",
      "into the pot and you have the tremendously absorbing sidney lumet film prince of the city . \n",
      "how absorbing is prince of the city , you ask ? \n",
      "so damn absorbing that when the film shifts from gritty undercover cop drama to courtroom drama ( a sub-genre i loath the way kristy swanson must loath sarah michelle gellar ) i remained completely and utterly involved . \n",
      "the film stars treat williams , who gives the kind of performance that should have skyrocketed his career up to the level that brad pitt currently resides at . \n",
      "since i was hatched a mere two years prior to the release of prince of the city , i cannot provide an answer as to why it didn't . \n",
      " ( though judging from his recent roles in tripe like deep rising and dead heat i would guess that it probably has something to do with quite a few bad career moves ) . \n",
      "like mickey rourke and eric roberts ( both of whom are currently doing time in direct to video purgatory ) williams is a talented leading man who didn't make it to where he should have . \n",
      " ( if there was any justice in this dog gone world keanu reeves would be the one banished to direct to video hell ) . \n",
      "here , the actor is given a role not all that dissimilar from al pacino's in serpico ( also directed by lumet ) . \n",
      "williams plays danny ciello , a member of an elite squad of police officers who take down drug dealers on the gritty pre-juliani streets of new york . \n",
      "they work without uniforms or hours much like paid vigilantes . \n",
      "and that analogy is more than apt seeing as how the bunch are kinda sorta forced into using corrupt means to get the job done . \n",
      "the squad relies entirely on informants ( low level junkies ) to gain access to the big wigs , and in order to obtain the info they seek , they sometimes have to provide the junkies with the junk of their choice . \n",
      "danny has done this , and though he's a fairly honorable guy , who took the job in order to do good , his intentions have gotten a bit skewed along the way . \n",
      "he seeks redemption and concludes that the best way to go about getting it is by talking to internal affairs who then convince him to go undercover as a \" double agent \" . \n",
      "he does so with one condition : he will not rat on his partners . \n",
      "right away we know that that is exactly what he'll have to do . \n",
      "and watching the movie build to that is thrilling in the way that any great character driven story can be . \n",
      "undercover cop films are almost innately exciting , even the kind that pull out all the cliches ( like in too deep ) . \n",
      "how can one not be moved by the issues of betrayal , ambiguity , and the danger in putting oneself in such a risky position ? \n",
      "prince of the city takes all this and charges it with a perceptive , hard boiled script and taut unintrusive direction by old pro sidney lumet , as well as a handful of intense performances , most notably by treat . \n",
      "lumet's greatest contribution to the movie is how he lays back , and lets the camera soak up the action . \n",
      "his scenes transition rapidly from one to the next building layers of tension , and he rarely holds for reaction shots , instead he clicks away at precisely the moment a character stops yakking . \n",
      "lumet's worst tendency is one that many film makers ( especially oliver stone ) tend to overuse : he relies a little too heavily on actors shouting their lines at each other presumably in order to ratchet up the tension . \n",
      "this isn't as much a problem here as it was in night falls on manhattan , lumet's most recent cop \\ lawyer endeavor , a movie that nearly gave me an ulcer from just watching . \n",
      "though of late lumet has made several really awful career choices ( maybe he and treat should get together for a drink or something ) , the most recent a completely unnecessary remake of gloria , here he was on , sustaining tension in a film that runs for 167 minutes with not one dull spot . \n",
      "some of the formula pictures i like the best are the most simplistic . \n",
      "hollywood often forgets how easy it is to make these kinds of pictures even tolerable . \n",
      "of course cop movies aren't popular anymore ( yes buddy cop flicks are popular but those are more like extended sitcoms with gunfire amid the punch lines ) , but just look at the average hollywood action movies , flicks so bloated and full of unnecessary fat like the boring love interest that serves no purpose other than to stall the action and demonstrate that our hero isn't gay , the lame comic relief character who's never funny , and on and on . \n",
      "for all its moral ambiguities prince of the city is a back to the basics cop \\ courtroom drama that leaves out all the crap and really thrills . \n",
      "it focuses completely on its story , and its characters all of whom are completely believable from the cops to the lawyers to the junkies . \n",
      "there's a great scene early on where an irate williams shouts at an ia officer and looks as if he's about to go into one of those corny braveheart inspirational speeches , but instead he breaks down in front of the cop and begins sobbing . \n",
      "this is a scene that would never make it into a michael bay film ( even though bruce willis sacrifices his life at the end of armageddon , not one damn tear ) it would be cut out because the director would say oh that makes him too human , excuse me , weak . \n",
      "in the very next scene danny speaks in a hushed raspiness , straining to get the words out . \n",
      "he's lost his voice . \n",
      "does that little itty bitty detail matter ? \n",
      "maybe not to most , but it sure made my night . \n",
      "and in a sprawling epic of corruption , greed , betrayal and violence it's nice to see that someone is paying attention to the little things . \n",
      "\n",
      "       x         w    abs_xw        xw\n",
      "and   35  0.001253  0.043866  0.043866\n",
      "the   70  0.000307  0.021466  0.021466\n",
      "to    39 -0.000413  0.016120 -0.016120\n",
      "he    11  0.001413  0.015546  0.015546\n",
      "on    11 -0.001200  0.013200 -0.013200\n",
      "all   10 -0.001040  0.010400 -0.010400\n",
      "most   5  0.001960  0.009800  0.009800\n",
      "have   6 -0.001533  0.009200 -0.009200\n",
      "at     8 -0.001133  0.009067 -0.009067\n",
      "like  11 -0.000800  0.008800 -0.008800 \n",
      "\n",
      "File cv828_19831.txt\n",
      "True sentiment:  1 .  Predicted sentiment:  -1.0 . Score:  -0.0109331875575\n",
      "all those who were offended by there's something about mary should not tread in the waters of american pie , a gratuitously sexual rollercoaster ride of raunch . \n",
      "and while this uproariously funny , gross-out summer movie is basically an exercise in bad taste , it also demonstrates a surprising sweetness in the end . \n",
      "american pie is the latest entry to the offensive teenage-targeted fare this season . \n",
      "i must question the studio that releases a movie like this . \n",
      "the producers are aiming these films at the 15-24 crowd , but while pushing the limit of possible sex and violence in an r-rated film . \n",
      "some have even been narrowly avoiding the dreaded nc-17 , a rating the mpaa gives when the adult content surpasses even that of a restricted movie . \n",
      "american pie was threatened with an nc-17 , but after snipping a few scenes from the finished product , it was given an r . but at least this new addition is not as careless and unforgiving as something like south park . \n",
      "it is sick , perverse , and ultimately disgusting - not to mention extremely funny . \n",
      "american pie is about four desperate teenagers who make a pact to lose their virginity by prom night . \n",
      "jim ( jason biggs ) , kevin ( thomas ian nicholas ) , oz ( chris klein ) and finch ( eddie kaye thomas ) are a quartet of high school students in their senior year who think sex is something they must experience to be successful in their lives ahead . \n",
      "jim inquires what it feels like when you reach third base , to which one of his friends replies : `like warm apple pie . . . ' . \n",
      "of course , this prompts the scene unfairly exposed in the trailers , in which jim and a freshly baked pie have a very intimate moment in the kitchen corner . \n",
      "there are many moments , such as this , in which director paul weitz uses a game-plan similar to the one frequently displayed in mary : to cause the audience to break down laughing in disgusting disbelief . \n",
      "american pie is a hard-fought effort that has replenishing rewards if you manage to stick with it . \n",
      "i loved the young cast in this movie . \n",
      "consider the subject matter that these actors have dealt with , obviously suggestiveness never rivaled in any of their previous projects , and you should appreciate their performances . \n",
      "biggs is more than enjoyable , and chris klein ( who recently played a similar jock in election ) is obviously a young talent on the rise . \n",
      "but in a teen-dominated movie , the best performance comes from comedian eugene levy ( of television's sctv ) , who is unexpectedly brilliant as jim's uneasy father . \n",
      "scenes in which the familiar father-son conversations are brought to interesting new levels are the funniest moments to be found in american pie . \n",
      "after levy discovers jim's new use for apple pie , he tells him , `i did a fare share of that sort of thing when i was your age . \n",
      "but i never used baked goods . ' \n",
      "it is performances such as his , and bill murray's in rushmore , that are often unfairly dismissed when awards are handed out . \n",
      "there are some less-than-original aspects of the film . \n",
      "a bathroom incident involving finch and a bottle of ex-lax is something we've seen before . \n",
      "if weitz is planning to take after the farrelly brothers , then this is a decidedly unwise move : the same prank was pulled in the brother's dumb and dumber , and used to greater effect . \n",
      "secondly , the characters are forced into a half-hearted climax that seems more artificial than amusing . \n",
      "but at one point , in which we discover that american pie does have a heart of it's own , biggs asks his buddies why he's going through so much pressure for something that's `not very important anyway . ' \n",
      "and so we realize that while the film is expressive about a subject that is hardly appropriate , it still manages to be mature . \n",
      "in it's own way . \n",
      "\n",
      "           x         w    abs_xw        xw\n",
      "and       13  0.001253  0.016293  0.016293\n",
      "the       29  0.000307  0.008893  0.008893\n",
      "american   7  0.001133  0.007933  0.007933\n",
      "this       8 -0.000987  0.007893 -0.007893\n",
      "have       4 -0.001533  0.006133 -0.006133\n",
      "to        14 -0.000413  0.005787 -0.005787\n",
      "bad        1 -0.004760  0.004760 -0.004760\n",
      "is        16  0.000293  0.004693  0.004693\n",
      "you        3  0.001467  0.004400  0.004400\n",
      "but        6 -0.000680  0.004080 -0.004080 \n",
      "\n"
     ]
    }
   ],
   "source": [
    "scores = []\n",
    "for bag in bag_test:\n",
    "    score = dotProduct(w_opt, bag)\n",
    "    scores.append(score)\n",
    "\n",
    "score_df=pd.DataFrame(zip(scores,label_test))\n",
    "score_df.columns=('score','label')\n",
    "score_df['prediction']=np.sign(score_df['score'])\n",
    "score_df['err']= map(lambda x:int(x),score_df['label']!=score_df['prediction'])\n",
    "wrong = score_df[score_df.err==1]\n",
    "wrong_name = []\n",
    "for w in wrong.iterrows():\n",
    "    if int(w[1].label)==1:\n",
    "        name = \"data/pos/\"\n",
    "    else:\n",
    "        name = \"data/neg/\"\n",
    "    name+=ids_test[w[0]]\n",
    "    wrong_name.append(name)\n",
    "wrong['name']=wrong_name\n",
    "for i in wrong.index[:5]:\n",
    "    example_analysis(i)"
   ]
  },
  {
   "cell_type": "markdown",
   "metadata": {},
   "source": [
    "8.2. [Optional] Try to get the best performance possible by generating lots of new features, changing the pre-processing, or any other method you want, so long as you are using the same core SVM model. Describe what you tried, and how much improvement each thing brought to the model. To get you thinking on features, here are some basic ideas of varying quality: 1) how many words are in the review? 2) How many “negative” words are there? (You’d have to construct or find a list of negative words.) 3) Word n-gram features: Instead of single-word features, you can make every pair of consecutive words a feature. 4) Character n-gram features: Ignore word boundaries and make every sequence of n characters into a feature (this will be a lot). 5) Adding an extra feature whenever a word is preceded by “not”. For example “not amazing” becomes its own feature. 6) Do we really need to eliminate those funny characters in the data loading phase? Might there be useful signal there? 7) Use tf-idf instead of raw word counts. The tf-idf is calculated as $$tfidf(f_i)=\\frac{FF_i}{log(DF_i)}$$\n",
    "where $FF_i$ is the feature frequency of feature $f_i$ and $DF_i$ is the number of document containing $f_i$. In this way we increase the weight of rare words. Sometimes this scheme helps, sometimes it makes things worse. You could try using both! [Extra credit points will be awarded in proportion to how much improvement you achieve.]"
   ]
  },
  {
   "cell_type": "code",
   "execution_count": 33,
   "metadata": {
    "collapsed": false
   },
   "outputs": [],
   "source": [
    "def add_bigram(lst):\n",
    "    pre = \"START\"\n",
    "    bigrams = []\n",
    "    for word in lst:\n",
    "        bigram = str(pre) + \" \" + str(word)\n",
    "        bigrams.append(bigram)\n",
    "        pre = word\n",
    "    return bigrams + lst"
   ]
  },
  {
   "cell_type": "code",
   "execution_count": 34,
   "metadata": {
    "collapsed": true
   },
   "outputs": [],
   "source": [
    "def lst2bigram(lst):\n",
    "    bags = map(lambda x:collections.Counter(x[:-2]),lst)\n",
    "    labels = map(lambda x:x[-2],lst)\n",
    "    ids = map(lambda x:x[-1],lst)\n",
    "    return bags, labels, ids"
   ]
  },
  {
   "cell_type": "code",
   "execution_count": 35,
   "metadata": {
    "collapsed": false
   },
   "outputs": [],
   "source": [
    "bi_train = map(lambda x:add_bigram(x), train)\n",
    "bi_test = map(lambda x:add_bigram(x), test)"
   ]
  },
  {
   "cell_type": "code",
   "execution_count": 36,
   "metadata": {
    "collapsed": true
   },
   "outputs": [],
   "source": [
    "bi_bag_train,bi_label_train,ids_train=lst2bag(bi_train)\n",
    "bi_bag_test,bi_label_test,bi_ids_test=lst2bag(bi_test)"
   ]
  },
  {
   "cell_type": "code",
   "execution_count": 37,
   "metadata": {
    "collapsed": false
   },
   "outputs": [
    {
     "name": "stdout",
     "output_type": "stream",
     "text": [
      "Prediction after removing stopwords.\n",
      "443763\n",
      "implemented_pegasos function took 39822.189 ms\n",
      "Percent Error: 0.172000 +/- 0.016877\n"
     ]
    }
   ],
   "source": [
    "print('Prediction after removing stopwords.')\n",
    "evaluate_model(bi_bag_train,bi_label_train,False)"
   ]
  }
 ],
 "metadata": {
  "kernelspec": {
   "display_name": "Python 2",
   "language": "python",
   "name": "python2"
  },
  "language_info": {
   "codemirror_mode": {
    "name": "ipython",
    "version": 2
   },
   "file_extension": ".py",
   "mimetype": "text/x-python",
   "name": "python",
   "nbconvert_exporter": "python",
   "pygments_lexer": "ipython2",
   "version": "2.7.10"
  }
 },
 "nbformat": 4,
 "nbformat_minor": 0
}
