{
 "cells": [
  {
   "cell_type": "markdown",
   "metadata": {},
   "source": [
    "## 1. Preliminaries"
   ]
  },
  {
   "cell_type": "markdown",
   "metadata": {},
   "source": [
    "### 1.1. Data Construction"
   ]
  },
  {
   "cell_type": "markdown",
   "metadata": {},
   "source": [
    "$X$ is the \"design matrix\" with M\\*D(150*75)\n",
    "\n",
    "w\\_true is the true weight vector $w_{true} \\in\\mathbf R^{d\\times 1}$\n",
    "\n",
    "y is the response with M\\*1\n",
    "\n",
    "Dataset is split by taking 80 points for training, the next 2-00 points for validation and the last 50 points for testing."
   ]
  },
  {
   "cell_type": "code",
   "execution_count": 1,
   "metadata": {
    "collapsed": true
   },
   "outputs": [],
   "source": [
    "import numpy as np\n",
    "from scipy.optimize import minimize\n",
    "import matplotlib.pyplot as plt\n",
    "import timeit\n",
    "%matplotlib inline"
   ]
  },
  {
   "cell_type": "code",
   "execution_count": 2,
   "metadata": {
    "collapsed": true
   },
   "outputs": [],
   "source": [
    "m = 150\n",
    "d = 75"
   ]
  },
  {
   "cell_type": "code",
   "execution_count": 3,
   "metadata": {
    "collapsed": false
   },
   "outputs": [],
   "source": [
    "np.random.seed(1738)\n",
    "### Design Matrix ###\n",
    "X = np.random.rand(m,d)\n",
    "### Weight Vector ###\n",
    "w_true = np.zeros(d)\n",
    "w_true[:10] = (np.random.choice(2,10)-0.5)*2\n",
    "### Response ###\n",
    "sigma = 0.1 \n",
    "mu = 0\n",
    "epsilon = sigma*np.random.randn(m) + mu\n",
    "y = np.dot(X, w_true)+epsilon"
   ]
  },
  {
   "cell_type": "code",
   "execution_count": 4,
   "metadata": {
    "collapsed": false
   },
   "outputs": [],
   "source": [
    "X_train = X[:80,:]\n",
    "X_validation = X[80:100,:]\n",
    "X_test = X[-50:150,:]"
   ]
  },
  {
   "cell_type": "code",
   "execution_count": 5,
   "metadata": {
    "collapsed": false
   },
   "outputs": [],
   "source": [
    "y_train = y[:80]\n",
    "y_validation = y[80:100]\n",
    "y_test = y[-50:150]"
   ]
  },
  {
   "cell_type": "markdown",
   "metadata": {},
   "source": [
    "### 1.2. Ridge Regression"
   ]
  },
  {
   "cell_type": "markdown",
   "metadata": {},
   "source": [
    "Run ridge regression on this dataset. Choose the $\\lambda$ that minimizes the square loss on the validation set."
   ]
  },
  {
   "cell_type": "code",
   "execution_count": 6,
   "metadata": {
    "collapsed": false
   },
   "outputs": [
    {
     "name": "stdout",
     "output_type": "stream",
     "text": [
      "(1e-09, 0.029819016409124582)\n",
      "(1e-08, 0.029817999953792869)\n",
      "(1e-07, 0.029807937055520251)\n",
      "(1e-06, 0.02970870510534766)\n",
      "(1e-05, 0.029149523109953529)\n",
      "(0.0001, 0.026048744308054129)\n",
      "(0.001, 0.035628138031012738)\n",
      "(0.01, 0.1000448583973369)\n",
      "(0.1, 0.26339067097969077)\n",
      "(1, 0.3654767260665357)\n",
      "Best Lambda 0.0001\n",
      "Best Loss 0.0260487443081\n"
     ]
    }
   ],
   "source": [
    "def ridge(X, y, Lambda):\n",
    "    (N, D) = X.shape\n",
    "    def ridge_obj(theta):\n",
    "        return ((np.linalg.norm(np.dot(X, theta) - y))**2) / (2 * N) +\\\n",
    "            Lambda * (np.linalg.norm(theta))**2\n",
    "    return ridge_obj\n",
    "\n",
    "def compute_loss(X, y, theta):\n",
    "    (N, D) = X.shape\n",
    "    return ((np.linalg.norm(np.dot(X, theta) - y))**2) / (2 * N)\n",
    "\n",
    "def ridge_regression(Lambda=0):\n",
    "    \"\"\" \n",
    "    Args:\n",
    "        lambda - if not given loop through differen lambdas and find the best\n",
    "    Returns:\n",
    "        theta_opt - the optimization of parameter vector, 1D numpy array of size (num_features)\n",
    "        lambda_opt - the history optimization of parameter, 1D numpy array of size (num_lambdas)\n",
    "        loss_opt - the history of regularized loss value, 1D numpy array of size (num_lambdas)\n",
    "    \"\"\"\n",
    "    (N, D) = X.shape\n",
    "    w = np.random.rand(D, 1)\n",
    "    Lambda_history = []\n",
    "    loss_history = []\n",
    "    t = 0\n",
    "    loss_min=lambda_min=w_min=np.nan\n",
    "    if (Lambda==0):\n",
    "        for i in range(-9, 1):\n",
    "            Lambda = 10**i\n",
    "            Lambda_history.append(Lambda)\n",
    "            w_opt = minimize(ridge(X_train, y_train, Lambda), w)\n",
    "            loss = compute_loss(X_validation, y_validation, w_opt.x)\n",
    "            loss_history.append(loss)\n",
    "            print(Lambda, loss)\n",
    "            if (t==0 or loss<loss_min):\n",
    "                loss_min = loss\n",
    "                lambda_min = Lambda\n",
    "                w_min = w_opt.x.copy()\n",
    "                t=t+1\n",
    "    else:\n",
    "        w_opt = minimize(ridge(X_train, y_train,Lambda), w)\n",
    "        loss_opt = compute_loss(X_validation, y_validation, w_opt.x)\n",
    "        return w_opt.x.copy(), Lambda, loss_opt\n",
    "    \n",
    "    print \"Best Lambda\",lambda_min\n",
    "    print \"Best Loss\", loss_min\n",
    "    return w_min, Lambda_history, loss_history\n",
    "w_min, Lambda_hist, loss_hist = ridge_regression()"
   ]
  },
  {
   "cell_type": "code",
   "execution_count": 7,
   "metadata": {
    "collapsed": false
   },
   "outputs": [
    {
     "data": {
      "image/png": "[encoded data removed]",
      "text/plain": [
       "<matplotlib.figure.Figure at 0x113154dd0>"
      ]
     },
     "metadata": {},
     "output_type": "display_data"
    }
   ],
   "source": [
    "plt.plot(Lambda_hist, loss_hist)\n",
    "plt.xlabel('Lambda')\n",
    "plt.ylabel('Loss')\n",
    "plt.xscale('log')\n",
    "plt.title('Ridge Regression: Loss vs. Lambda')\n",
    "plt.show()"
   ]
  },
  {
   "cell_type": "code",
   "execution_count": 8,
   "metadata": {
    "collapsed": false
   },
   "outputs": [
    {
     "name": "stdout",
     "output_type": "stream",
     "text": [
      "With tolerence of 0.0\n",
      "True Value Zero estimated as Nonzero: 65\n",
      "True Value Nonzero estimated as Zero: 0\n",
      "True Value Zero estimated as Zero: 0\n",
      "True Value Nonzero estimated as Nonzero: 10\n",
      "With tolerence of 0.05\n",
      "True Value Zero estimated as Nonzero: 41\n",
      "True Value Nonzero estimated as Zero: 0\n",
      "True Value Zero estimated as Zero: 24\n",
      "True Value Nonzero estimated as Nonzero: 10\n"
     ]
    }
   ],
   "source": [
    "### Choose 1e-4 as lambda, test model coefficients ###\n",
    "Lambda = 10**-4\n",
    "w_min, Lambda, loss_hist = ridge_regression(Lambda)\n",
    "\n",
    "### Coefficient Report under tolerence=0.0 ###\n",
    "\n",
    "tolerance = 0.0\n",
    "false_nonzeros = sum((w_true==0) & (abs(w_min)>=tolerance))\n",
    "false_zeros = sum((w_true!=0) & (abs(w_min)<tolerance))\n",
    "true_nonzeros = sum((w_true!=0) & (abs(w_min)>=tolerance))\n",
    "true_zeros = sum((w_true==0) & (abs(w_min)<tolerance))\n",
    "print \"With tolerence of {0}\".format(tolerance)\n",
    "print \"True Value Zero estimated as Nonzero: {0}\".format(false_nonzeros)\n",
    "print \"True Value Nonzero estimated as Zero: {0}\".format(false_zeros)\n",
    "print \"True Value Zero estimated as Zero: {0}\".format(true_zeros)\n",
    "print \"True Value Nonzero estimated as Nonzero: {0}\".format(true_nonzeros)\n",
    "\n",
    "### Coefficient Report under tolerence=0.05 ###\n",
    "\n",
    "tolerance = 0.05\n",
    "false_nonzeros = sum((w_true==0) & (abs(w_min)>=tolerance))\n",
    "false_zeros = sum((w_true!=0) & (abs(w_min)<tolerance))\n",
    "true_nonzeros = sum((w_true!=0) & (abs(w_min)>=tolerance))\n",
    "true_zeros = sum((w_true==0) & (abs(w_min)<tolerance))\n",
    "print \"With tolerence of {0}\".format(tolerance)\n",
    "print \"True Value Zero estimated as Nonzero: {0}\".format(false_nonzeros)\n",
    "print \"True Value Nonzero estimated as Zero: {0}\".format(false_zeros)\n",
    "print \"True Value Zero estimated as Zero: {0}\".format(true_zeros)\n",
    "print \"True Value Nonzero estimated as Nonzero: {0}\".format(true_nonzeros)"
   ]
  },
  {
   "cell_type": "markdown",
   "metadata": {},
   "source": [
    "## 2. Coordinate Descent for Lasso (a.k.a. The Shooting Algo)"
   ]
  },
  {
   "cell_type": "markdown",
   "metadata": {},
   "source": [
    "### 2.1 Experiment with the Shooting Algorithm"
   ]
  },
  {
   "cell_type": "markdown",
   "metadata": {},
   "source": [
    "(1) Write a function that computes the Lasso solution for a given $\\lambda$"
   ]
  },
  {
   "cell_type": "code",
   "execution_count": 9,
   "metadata": {
    "collapsed": false
   },
   "outputs": [
    {
     "name": "stdout",
     "output_type": "stream",
     "text": [
      "Converged: True Iterations: 69\n",
      "Converged: True Iterations: 69\n",
      "Converged: True Iterations: 69\n",
      "Converged: True Iterations: 69\n",
      "1 loop, best of 3: 1.14 s per loop\n"
     ]
    }
   ],
   "source": [
    "def soft(a, delta):\n",
    "    return np.sign(a)*max( abs(a) - delta, 0)\n",
    "\n",
    "def lasso_shooting(X, y, Lambda=10, tolerance=1e-4):\n",
    "    (N, D) = X.shape\n",
    "    maxIt = 1000\n",
    "    ### Shooting Algo ###\n",
    "    it = 1\n",
    "    converged = False\n",
    "    ### Initialize w ###\n",
    "    w = np.dot(np.dot(np.linalg.inv(np.dot(X.T, X) + np.identity(D)), X.T), y)\n",
    "    while (not converged) & (it<maxIt):\n",
    "        w_old = w.copy()\n",
    "        for j in range(D):\n",
    "            aj=cj=0\n",
    "            for i in range(1,N):\n",
    "                aj=aj+2*X[i,j]**2\n",
    "                cj=cj+2*X[i,j]*(y[i]-np.dot(w,X[i,:])+ w[j]*X[i,j])\n",
    "\n",
    "            w[j] = soft(cj/aj,Lambda/aj)\n",
    "        it = it + 1\n",
    "        converged = (sum(abs(w-w_old)) < tolerance)\n",
    "    print \"Converged:\",converged,\"Iterations:\",it\n",
    "    return w, converged\n",
    "\n",
    "### sanity test ###\n",
    "%timeit lasso_shooting(X_train, y_train, 10) "
   ]
  },
  {
   "cell_type": "code",
   "execution_count": 10,
   "metadata": {
    "collapsed": true
   },
   "outputs": [],
   "source": [
    "def timeme(func,iterations=1,*args,**kwargs):\n",
    "    \"\"\"\n",
    "    Timer wrapper.  Runs a given function, with arguments,\n",
    "    100 times and displays the average time per run.  \n",
    "    \"\"\"\n",
    "    def wrapper(func, *args, **kwargs):\n",
    "        def wrapped():\n",
    "            return func(*args, **kwargs)\n",
    "        return wrapped\n",
    "    wrapped = wrapper(func,*args,**kwargs)\n",
    "    run_time = float(timeit.timeit(wrapped, number=iterations))/iterations\n",
    "    print \"Avg time to run %s after %i trials: %i seconds per trial\" %(func,iterations,run_time)"
   ]
  },
  {
   "cell_type": "code",
   "execution_count": 11,
   "metadata": {
    "collapsed": false,
    "scrolled": false
   },
   "outputs": [
    {
     "name": "stdout",
     "output_type": "stream",
     "text": [
      "Start Searching\n",
      "Lambda 0.01\n",
      "Converged: False Iterations: 1000\n",
      "Lambda 0.018977868643\n",
      "Converged: False Iterations: 1000\n",
      "Lambda 0.0360159498232\n",
      "Converged: False Iterations: 1000\n",
      "Lambda 0.06835059648\n",
      "Converged: False Iterations: 1000\n",
      "Lambda 0.129714864167\n",
      "Converged: False Iterations: 1000\n",
      "Lambda 0.246171165321\n",
      "Converged: True Iterations: 927\n",
      "Lambda 0.467180403917\n",
      "Converged: True Iterations: 458\n",
      "Lambda 0.886608833814\n",
      "Converged: True Iterations: 254\n",
      "Lambda 1.68259459859\n",
      "Converged: True Iterations: 186\n",
      "Lambda 3.19320592715\n",
      "Converged: True Iterations: 169\n",
      "Lambda 6.06002426356\n",
      "Converged: True Iterations: 142\n",
      "Lambda 11.5006344447\n",
      "Converged: True Iterations: 54\n",
      "Lambda 21.8257529804\n",
      "Converged: True Iterations: 47\n",
      "Lambda 41.4206273097\n",
      "Converged: True Iterations: 17\n",
      "Lambda 78.6075224196\n",
      "Converged: True Iterations: 7\n",
      "Converged: True Iterations: 775\n",
      "Best Lambda: 0.246171165321\n",
      "Square Loss on Test Data: 0.008095764033\n",
      "Start Searching\n",
      "Lambda 0.01\n",
      "Converged: False Iterations: 1000\n",
      "Lambda 0.018977868643\n",
      "Converged: False Iterations: 1000\n",
      "Lambda 0.0360159498232\n",
      "Converged: False Iterations: 1000\n",
      "Lambda 0.06835059648\n",
      "Converged: False Iterations: 1000\n",
      "Lambda 0.129714864167\n",
      "Converged: False Iterations: 1000\n",
      "Lambda 0.246171165321\n",
      "Converged: True Iterations: 927\n",
      "Lambda 0.467180403917\n",
      "Converged: True Iterations: 458\n",
      "Lambda 0.886608833814\n",
      "Converged: True Iterations: 254\n",
      "Lambda 1.68259459859\n",
      "Converged: True Iterations: 186\n",
      "Lambda 3.19320592715\n",
      "Converged: True Iterations: 169\n",
      "Lambda 6.06002426356\n",
      "Converged: True Iterations: 142\n",
      "Lambda 11.5006344447\n",
      "Converged: True Iterations: 54\n",
      "Lambda 21.8257529804\n",
      "Converged: True Iterations: 47\n",
      "Lambda 41.4206273097\n",
      "Converged: True Iterations: 17\n",
      "Lambda 78.6075224196\n",
      "Converged: True Iterations: 7\n",
      "Converged: True Iterations: 775\n",
      "Best Lambda: 0.246171165321\n",
      "Square Loss on Test Data: 0.008095764033\n",
      "Start Searching\n",
      "Lambda 0.01\n",
      "Converged: False Iterations: 1000\n",
      "Lambda 0.018977868643\n",
      "Converged: False Iterations: 1000\n",
      "Lambda 0.0360159498232\n",
      "Converged: False Iterations: 1000\n",
      "Lambda 0.06835059648\n",
      "Converged: False Iterations: 1000\n",
      "Lambda 0.129714864167\n",
      "Converged: False Iterations: 1000\n",
      "Lambda 0.246171165321\n",
      "Converged: True Iterations: 927\n",
      "Lambda 0.467180403917\n",
      "Converged: True Iterations: 458\n",
      "Lambda 0.886608833814\n",
      "Converged: True Iterations: 254\n",
      "Lambda 1.68259459859\n",
      "Converged: True Iterations: 186\n",
      "Lambda 3.19320592715\n",
      "Converged: True Iterations: 169\n",
      "Lambda 6.06002426356\n",
      "Converged: True Iterations: 142\n",
      "Lambda 11.5006344447\n",
      "Converged: True Iterations: 54\n",
      "Lambda 21.8257529804\n",
      "Converged: True Iterations: 47\n",
      "Lambda 41.4206273097\n",
      "Converged: True Iterations: 17\n",
      "Lambda 78.6075224196\n",
      "Converged: True Iterations: 7\n",
      "Converged: True Iterations: 775\n",
      "Best Lambda: 0.246171165321\n",
      "Square Loss on Test Data: 0.008095764033\n",
      "Avg time to run <function lambda_search at 0x115e98758> after 3 trials: 114 seconds per trial\n"
     ]
    }
   ],
   "source": [
    "def lambda_search():\n",
    "    t=0\n",
    "    Lambdas=[]\n",
    "    loss_hist=[]\n",
    "    loss_min = lambda_min=w_opt=np.nan\n",
    "    print \"Start Searching\"\n",
    "    Lambda_max = np.linalg.norm(np.dot(X.T,y),np.inf)\n",
    "    log_lambda_max = np.log10(Lambda_max)\n",
    "    for i in np.linspace(-2, log_lambda_max, 15):\n",
    "        Lambda = 10**i\n",
    "        print \"Lambda\",Lambda\n",
    "        w, converged = lasso_shooting(X_train, y_train, Lambda)\n",
    "        Lambdas.append(Lambda)\n",
    "        loss = compute_loss(X_validation, y_validation, w)\n",
    "        loss_hist.append(loss)\n",
    "        if t==0:\n",
    "            loss_min = loss\n",
    "            lambda_min = Lambda\n",
    "            w_min = w.copy()  \n",
    "        elif converged:\n",
    "            if loss<=loss_min:\n",
    "                loss_min = loss\n",
    "                lambda_min = Lambda\n",
    "                w_min = w.copy()  \n",
    "        t=t+1\n",
    "    best_lost = lasso_shooting(X_test, y_test, lambda_min)\n",
    "    print \"Best Lambda:\",lambda_min\n",
    "    print \"Square Loss on Test Data:\", loss_min\n",
    "    \n",
    "    return w_opt,Lambdas,loss_hist\n",
    "\n",
    "\n",
    "timeme(lambda_search,3)"
   ]
  },
  {
   "cell_type": "code",
   "execution_count": 12,
   "metadata": {
    "collapsed": false
   },
   "outputs": [
    {
     "name": "stdout",
     "output_type": "stream",
     "text": [
      "Start Searching\n",
      "Lambda 0.01\n",
      "Converged: False Iterations: 1000\n",
      "Lambda 0.018977868643\n",
      "Converged: False Iterations: 1000\n",
      "Lambda 0.0360159498232\n",
      "Converged: False Iterations: 1000\n",
      "Lambda 0.06835059648\n",
      "Converged: False Iterations: 1000\n",
      "Lambda 0.129714864167\n",
      "Converged: False Iterations: 1000\n",
      "Lambda 0.246171165321\n",
      "Converged: True Iterations: 927\n",
      "Lambda 0.467180403917\n",
      "Converged: True Iterations: 458\n",
      "Lambda 0.886608833814\n",
      "Converged: True Iterations: 254\n",
      "Lambda 1.68259459859\n",
      "Converged: True Iterations: 186\n",
      "Lambda 3.19320592715\n",
      "Converged: True Iterations: 169\n",
      "Lambda 6.06002426356\n",
      "Converged: True Iterations: 142\n",
      "Lambda 11.5006344447\n",
      "Converged: True Iterations: 54\n",
      "Lambda 21.8257529804\n",
      "Converged: True Iterations: 47\n",
      "Lambda 41.4206273097\n",
      "Converged: True Iterations: 17\n",
      "Lambda 78.6075224196\n",
      "Converged: True Iterations: 7\n",
      "Converged: True Iterations: 775\n",
      "Best Lambda: 0.246171165321\n",
      "Square Loss on Test Data: 0.008095764033\n"
     ]
    }
   ],
   "source": [
    "w_opt,Lambdas,loss_hist_lasso = lambda_search()"
   ]
  },
  {
   "cell_type": "code",
   "execution_count": 13,
   "metadata": {
    "collapsed": false
   },
   "outputs": [
    {
     "data": {
      "image/png": "[encoded data removed]",
      "text/plain": [
       "<matplotlib.figure.Figure at 0x1131547d0>"
      ]
     },
     "metadata": {},
     "output_type": "display_data"
    }
   ],
   "source": [
    "plt.plot(Lambdas,loss_hist_lasso)\n",
    "plt.xlabel('Lambda')\n",
    "plt.ylabel('Loss')\n",
    "plt.xscale('log')\n",
    "plt.title('Lasso Shooting: Loss vs. Lambda')\n",
    "plt.show()"
   ]
  },
  {
   "cell_type": "markdown",
   "metadata": {},
   "source": [
    "(2) Analyze the sparsity of your solution, reporting how many components with true value zero have been estimated to be non-zero, and vice-versa.\n",
    "> There are 3 cases where true value zero were estimated as nonzero. Vice versa never happens"
   ]
  },
  {
   "cell_type": "code",
   "execution_count": 14,
   "metadata": {
    "collapsed": false
   },
   "outputs": [
    {
     "name": "stdout",
     "output_type": "stream",
     "text": [
      "Converged: True Iterations: 927\n",
      "With tolerence of 0.05\n",
      "True Value Zero estimated as Nonzero: 3\n",
      "True Value Nonzero estimated as Zero: 0\n",
      "True Value Zero estimated as Zero: 62\n",
      "True Value Nonzero estimated as Nonzero: 10\n"
     ]
    }
   ],
   "source": [
    "### Choose 0.246171165321 as lambda, test model coefficients ###\n",
    "Lambda = 0.246171165321\n",
    "w_opt, _ = lasso_shooting(X_train, y_train, Lambda)\n",
    "\n",
    "### Coefficient Report under tolerence=0.05 ###\n",
    "tolerance = 0.05\n",
    "false_nonzeros = sum((w_true==0) & (abs(w_opt)>=tolerance))\n",
    "false_zeros = sum((w_true!=0) & (abs(w_opt)<tolerance))\n",
    "true_nonzeros = sum((w_true!=0) & (abs(w_opt)>=tolerance))\n",
    "true_zeros = sum((w_true==0) & (abs(w_opt)<tolerance))\n",
    "print \"With tolerence of {0}\".format(tolerance)\n",
    "print \"True Value Zero estimated as Nonzero: {0}\".format(false_nonzeros)\n",
    "print \"True Value Nonzero estimated as Zero: {0}\".format(false_zeros)\n",
    "print \"True Value Zero estimated as Zero: {0}\".format(true_zeros)\n",
    "print \"True Value Nonzero estimated as Nonzero: {0}\".format(true_nonzeros)"
   ]
  },
  {
   "cell_type": "markdown",
   "metadata": {},
   "source": [
    "(3) Implement the homotopy method described above. Compare the runtime for computing the full regularization path (for the same set of $\\lambda$’s you tried in the first question above) using the homotopy method compared to the basic shooting algorithm.\n"
   ]
  },
  {
   "cell_type": "code",
   "execution_count": 15,
   "metadata": {
    "collapsed": false
   },
   "outputs": [],
   "source": [
    "def soft(a, delta):\n",
    "    return np.sign(a)*max( abs(a) - delta, 0)\n",
    "\n",
    "def homotopy_lasso_shooting(X, y, Lambda=1, tolerance=1e-4, w='undefined'):\n",
    "    (N, D) = X.shape\n",
    "    maxIt = 1000\n",
    "    ### Shooting Algo ###\n",
    "    it = 1\n",
    "    converged = False\n",
    "    ### Initialize w ###\n",
    "    if w=='undefined':\n",
    "        w=np.zeros(D)\n",
    "    while (not converged) & (it<maxIt):\n",
    "        w_old = w.copy()\n",
    "        for j in range(D):\n",
    "            aj=cj=0\n",
    "            for i in range(1,N):\n",
    "                aj=aj+2*X[i,j]**2\n",
    "                cj=cj+2*X[i,j]*(y[i]-np.dot(w,X[i,:])+ w[j]*X[i,j])\n",
    "\n",
    "            w[j] = soft(cj/aj,Lambda/aj)\n",
    "        it = it + 1\n",
    "        converged = (sum(abs(w-w_old)) < tolerance)\n",
    "    print \"Converged:\",converged,\"Iterations:\",it\n",
    "    return w, converged\n",
    "#homotopy_lasso_shooting(X_train, y_train, 1) "
   ]
  },
  {
   "cell_type": "code",
   "execution_count": 16,
   "metadata": {
    "collapsed": false,
    "scrolled": false
   },
   "outputs": [
    {
     "name": "stdout",
     "output_type": "stream",
     "text": [
      "Start Searching\n",
      "Lambda = 78.6075224196. Warm Starting.....\n",
      "Converged: True Iterations: 3\n",
      "Lambda = 41.4206273097. Warm Starting.....\n",
      "Converged: True Iterations: 22\n",
      "Lambda = 21.8257529804. Warm Starting.....\n",
      "Converged: True Iterations: 44\n",
      "Lambda = 11.5006344447. Warm Starting.....\n",
      "Converged: True Iterations: 44\n",
      "Lambda = 6.06002426356. Warm Starting.....\n",
      "Converged: True Iterations: 140\n",
      "Lambda = 3.19320592715. Warm Starting.....\n",
      "Converged: True Iterations: 171\n",
      "Lambda = 1.68259459859. Warm Starting.....\n",
      "Converged: True Iterations: 165\n",
      "Lambda = 0.886608833814. Warm Starting.....\n",
      "Converged: True Iterations: 192\n",
      "Lambda = 0.467180403917. Warm Starting.....\n",
      "Converged: True Iterations: 302\n",
      "Lambda = 0.246171165321. Warm Starting.....\n",
      "Converged: True Iterations: 647\n",
      "Lambda = 0.129714864167. Warm Starting.....\n",
      "Converged: True Iterations: 875\n",
      "Lambda = 0.06835059648. Warm Starting.....\n",
      "Converged: False Iterations: 1000\n",
      "Lambda = 0.0360159498232. Warm Starting.....\n",
      "Converged: True Iterations: 886\n",
      "Lambda = 0.018977868643. Warm Starting.....\n",
      "Converged: False Iterations: 1000\n",
      "Lambda = 0.01. Warm Starting.....\n",
      "Converged: False Iterations: 1000\n",
      "Converged: False Iterations: 1000\n",
      "Best Lambda: 0.129714864167\n",
      "Square Loss on Test Data: 0.00802342043097\n",
      "Avg time to run <function homotopy_lambda_search at 0x115e1b398> after 1 trials: 105 seconds per trial\n"
     ]
    },
    {
     "name": "stderr",
     "output_type": "stream",
     "text": [
      "/usr/local/lib/python2.7/site-packages/ipykernel/__main__.py:11: FutureWarning: elementwise comparison failed; returning scalar instead, but in the future will perform elementwise comparison\n"
     ]
    }
   ],
   "source": [
    "def homotopy_lambda_search():\n",
    "    t=0\n",
    "    Lambdas=[]\n",
    "    loss_hist=[]\n",
    "    loss_min = lambda_min=w_opt=np.nan\n",
    "    (N, D) = X.shape\n",
    "    Lambda_max = np.linalg.norm(np.dot(X.T,y),np.inf)\n",
    "    log_lambda_max = np.log10(Lambda_max)\n",
    "    print \"Start Searching\"\n",
    "    w_old = w = np.zeros(D)\n",
    "    for i in np.linspace(log_lambda_max, -2, 15):\n",
    "        Lambda = 10**i\n",
    "        print \"Lambda = {0}. Warm Starting.....\".format(Lambda)\n",
    "        \n",
    "        w_old = w\n",
    "        w, converged = homotopy_lasso_shooting(X_train, y_train, Lambda=Lambda, w=w_old)\n",
    "\n",
    "        Lambdas.append(Lambda)\n",
    "        loss = compute_loss(X_validation, y_validation, w)\n",
    "        loss_hist.append(loss)\n",
    "        if t==0:\n",
    "            loss_min = loss\n",
    "            lambda_min = Lambda\n",
    "            w_min = w.copy()  \n",
    "        elif converged:\n",
    "            if loss<=loss_min:\n",
    "                loss_min = loss\n",
    "                lambda_min = Lambda\n",
    "                w_min = w.copy()  \n",
    "        t=t+1\n",
    "    best_lost = homotopy_lasso_shooting(X_test, y_test, lambda_min)\n",
    "    print \"Best Lambda:\",lambda_min\n",
    "    print \"Square Loss on Test Data:\", loss_min\n",
    "    \n",
    "    return w_opt,Lambdas,loss_hist\n",
    "\n",
    "timeme(homotopy_lambda_search)\n",
    "#%timeit w_lasso,lambdas_lasso,loss_hist_lasso = homotopy_lambda_search()"
   ]
  },
  {
   "cell_type": "markdown",
   "metadata": {},
   "source": [
    "(4) Implement the matrix expressions and measure the speedup to compute the regularization path."
   ]
  },
  {
   "cell_type": "code",
   "execution_count": 17,
   "metadata": {
    "collapsed": true
   },
   "outputs": [],
   "source": [
    "def soft(a, delta):\n",
    "    return np.sign(a)*max( abs(a) - delta, 0)\n",
    "\n",
    "def vect_homotopy_lasso_shooting(X, y, Lambda=1, tolerance=1e-4, w='undefined'):\n",
    "    (N, D) = X.shape\n",
    "    maxIt = 1000\n",
    "    ### Shooting Algo ###\n",
    "    it = 1\n",
    "    converged = False\n",
    "    ### Initialize w ###\n",
    "    if w=='undefined':\n",
    "        w=np.zeros(D)\n",
    "    while (not converged) & (it<maxIt):\n",
    "        w_old = w.copy()\n",
    "        for j in range(D):\n",
    "            aj = 2*np.dot(X[:,j].T,X[:,j]) \n",
    "            cj = 2*(X[:,j].dot(y) - (w.T.dot(X.T)).dot(X[:,j]) + w[j]*(X[:,j].T.dot(X[:,j])))\n",
    "            w[j] = soft(cj/aj,Lambda/aj)\n",
    "        it = it + 1\n",
    "        converged = (sum(abs(w-w_old)) < tolerance)\n",
    "    print \"Converged:\",converged,\"Iterations:\",it\n",
    "    return w, converged\n",
    "#homotopy_lasso_shooting(X_train, y_train, 1) "
   ]
  },
  {
   "cell_type": "code",
   "execution_count": 18,
   "metadata": {
    "collapsed": false
   },
   "outputs": [
    {
     "name": "stdout",
     "output_type": "stream",
     "text": [
      "Start Searching\n",
      "Lambda = 78.6075224196. Warm Starting.....\n",
      "Converged: True Iterations: 3\n",
      "Lambda = 41.4206273097. Warm Starting.....\n",
      "Converged: True Iterations: 22\n",
      "Lambda = 21.8257529804. Warm Starting.....\n",
      "Converged: True Iterations: 44\n",
      "Lambda = 11.5006344447. Warm Starting.....\n",
      "Converged: True Iterations: 44\n",
      "Lambda = 6.06002426356. Warm Starting.....\n",
      "Converged: True Iterations: 146\n",
      "Lambda = 3.19320592715. Warm Starting.....\n",
      "Converged: True Iterations: 175\n",
      "Lambda = 1.68259459859. Warm Starting.....\n",
      "Converged: True Iterations: 168\n",
      "Lambda = 0.886608833814. Warm Starting.....\n",
      "Converged: True Iterations: 196\n",
      "Lambda = 0.467180403917. Warm Starting.....\n",
      "Converged: True Iterations: 313\n",
      "Lambda = 0.246171165321. Warm Starting.....\n",
      "Converged: True Iterations: 666\n",
      "Lambda = 0.129714864167. Warm Starting.....\n",
      "Converged: True Iterations: 884\n",
      "Lambda = 0.06835059648. Warm Starting.....\n",
      "Converged: False Iterations: 1000\n",
      "Lambda = 0.0360159498232. Warm Starting.....\n",
      "Converged: True Iterations: 803\n",
      "Lambda = 0.018977868643. Warm Starting.....\n",
      "Converged: True Iterations: 631\n",
      "Lambda = 0.01. Warm Starting.....\n",
      "Converged: False Iterations: 1000\n",
      "Converged: False Iterations: 1000\n",
      "Best Lambda: 0.129714864167\n",
      "Square Loss on Test Data: 0.00787268083111\n",
      "Avg time to run <function vect_homotopy_lambda_search at 0x115ede230> after 1 trials: 5 seconds per trial\n"
     ]
    },
    {
     "name": "stderr",
     "output_type": "stream",
     "text": [
      "/usr/local/lib/python2.7/site-packages/ipykernel/__main__.py:11: FutureWarning: elementwise comparison failed; returning scalar instead, but in the future will perform elementwise comparison\n"
     ]
    }
   ],
   "source": [
    "def vect_homotopy_lambda_search():\n",
    "    t=0\n",
    "    Lambdas=[]\n",
    "    loss_hist=[]\n",
    "    loss_min = lambda_min=w_opt=np.nan\n",
    "    (N, D) = X.shape\n",
    "    Lambda_max = np.linalg.norm(np.dot(X.T,y),np.inf)\n",
    "    log_lambda_max = np.log10(Lambda_max)\n",
    "    print \"Start Searching\"\n",
    "    w_old = w = np.zeros(D)\n",
    "    for i in np.linspace(log_lambda_max, -2, 15):\n",
    "        Lambda = 10**i\n",
    "        print \"Lambda = {0}. Warm Starting.....\".format(Lambda)\n",
    "        \n",
    "        w_old = w\n",
    "        w, converged = vect_homotopy_lasso_shooting(X_train, y_train, Lambda=Lambda, w=w_old)\n",
    "\n",
    "        Lambdas.append(Lambda)\n",
    "        loss = compute_loss(X_validation, y_validation, w)\n",
    "        loss_hist.append(loss)\n",
    "        if t==0:\n",
    "            loss_min = loss\n",
    "            lambda_min = Lambda\n",
    "            w_min = w.copy()  \n",
    "        elif converged:\n",
    "            if loss<=loss_min:\n",
    "                loss_min = loss\n",
    "                lambda_min = Lambda\n",
    "                w_min = w.copy()  \n",
    "        t=t+1\n",
    "    best_lost = vect_homotopy_lasso_shooting(X_test, y_test, lambda_min)\n",
    "    print \"Best Lambda:\",lambda_min\n",
    "    print \"Square Loss on Test Data:\", loss_min\n",
    "    \n",
    "    return w_opt,Lambdas,loss_hist\n",
    "\n",
    "timeme(vect_homotopy_lambda_search)\n",
    "#%timeit w_lasso,lambdas_lasso,loss_hist_lasso = homotopy_lambda_search()"
   ]
  },
  {
   "cell_type": "markdown",
   "metadata": {},
   "source": [
    "### 2.2 Deriving the Coordinate Minimizer for lasso"
   ]
  },
  {
   "cell_type": "markdown",
   "metadata": {},
   "source": [
    "(1) First let's get a trival case out of the way. If $x_{ij}=0$ for $i=1,...,n$, what is the coordinate minimizer $w_j$?\n",
    "\n",
    "> __ANSWER__\n",
    "\n",
    "> $w_j=0$"
   ]
  },
  {
   "cell_type": "markdown",
   "metadata": {},
   "source": [
    "(2) Write the derivative of $f(w_j)$. \n",
    "\n",
    "> __ANSWER__\n",
    "\n",
    "> $\\begin{array}{cc} \n",
    "\\partial_{w_j}f(w_j) & = & (a_j w_j -c_j)+\\lambda \\partial_{w_j}\\|w_j\\|_1 \\\\ \n",
    "&=& a_j w_j-c_j+sign(w_j)\\lambda\n",
    "\\end{array}$"
   ]
  },
  {
   "cell_type": "markdown",
   "metadata": {},
   "source": [
    "(3) If $w_j>0$ and minimizes $f$, then show that $w_j=-\\frac{1}{a_j}(\\lambda-c_j)$. Similarly, if $w_j<0$ and minimizes $f$, show that $w_j=\\frac{1}{a_j}(\\lambda+c_j)$. Give conditions on $c_j$ that imply the minimizer $w_j>0$ and $w_j<0$, respectively.\n",
    "\n",
    "> __ANSWER__\n",
    "\n",
    "> The magnitude of $c_j$ is an indication of relevance feature j is for predicting y.\n",
    "\n",
    "> If $c_j>\\lambda$, then feature $j$ is strongly possitively correlated with the residual, so $w_j>0$.\n",
    "\n",
    "> If $c_j<-\\lambda$, then feature $j$ is strongly negatively correlated with the residual, so $w_j<0$."
   ]
  },
  {
   "cell_type": "markdown",
   "metadata": {},
   "source": [
    "(4) Derive expressions for the two one-sided derivative at $f(0)$, and show that $c_j \\in [-\\lambda, \\lambda]$ implies that $w_j=0$ is a minimizer.\n",
    "\n",
    "> __ANSWER__\n",
    "\n",
    "> $$a = \\lim_{w\\to0}\\frac{\\|w\\|-\\|0\\|}{w}=1$$\n",
    "\n",
    "> $$b = \\lim_{w\\to0}\\frac{\\|-w\\|)-\\|0\\|)}{w}=-1$$\n",
    "\n",
    "> The derivative for the $f(w_j)$ is \n",
    "\n",
    "> $$[-c_j+\\lambda b, -c_j +\\lambda a]=[-c_j-\\lambda,-c_j+\\lambda]$$\n",
    "\n",
    "> $\\therefore$ 0 is the minimizer."
   ]
  },
  {
   "cell_type": "markdown",
   "metadata": {},
   "source": [
    "(5) Conclude the minimizer.\n",
    "> If $c_j>\\lambda$, then feature $j$ is strongly possitively correlated with the residual, so $w_j>0$ and $w_j=-\\frac{1}{a_j}(\\lambda-c_j)$.\n",
    "\n",
    "> if $c_j\\in[-\\lambda,\\lambda]$, $w_j=0$ is a minimizer.\n",
    "\n",
    "> If $c_j<-\\lambda$, then feature $j$ is strongly negatively correlated with the residual, so $w_j<0$ and $w_j=\\frac{1}{a_j}(\\lambda+c_j)$."
   ]
  },
  {
   "cell_type": "markdown",
   "metadata": {},
   "source": [
    "## 3 Lasso Properties"
   ]
  },
  {
   "cell_type": "markdown",
   "metadata": {},
   "source": [
    "### 3.1 Deriving $\\lambda_{max}$"
   ]
  },
  {
   "cell_type": "markdown",
   "metadata": {},
   "source": [
    "(1) Compute $L_{'}(0;v)$."
   ]
  },
  {
   "cell_type": "markdown",
   "metadata": {},
   "source": [
    "> __ANSWER__\n",
    "\n",
    "> $\\begin{array}{cc}\n",
    "L^{'}(0;v)&=&\\lim\\limits_{h\\to 0}\\frac{1}{h}[\\|Xhv-y\\|_2^2+\\lambda\\|hv\\|_1-\\|y\\|^2-\\lambda\\|0\\|]\\\\\n",
    "&=&-2(Xv)^T y+\\lambda\\|v\\|\n",
    "\\end{array}$"
   ]
  },
  {
   "cell_type": "markdown",
   "metadata": {},
   "source": [
    "(2) Since the Lasso objective is convex, for $w^*$ to be a minimizer of $L(w)$ we must have that the directional derivative $L^{'}(w^*;v)\\geq 0$ for all v. Starting form the condition $L^{'}(0;v)\\geq 0$, rearrange terms to get a lower bounds on $\\lambda$."
   ]
  },
  {
   "cell_type": "markdown",
   "metadata": {},
   "source": [
    "> __ANSWER__\n",
    "\n",
    "> $\\begin{array}{cc}\n",
    "0&\\leq&L^{'}(0;v)\\\\\n",
    "&\\leq&-2vX^T y+\\lambda\\|v\\|\\\\\n",
    "\\lambda&\\geq&\\frac{2v X^T y}{\\|v\\|_1}\\quad for\\quad every\\quad v\\\\\n",
    "\\end{array}$\n",
    "\n",
    "> $\\lambda$'s lower bound is $\\frac{2v X^T y}{\\|v\\|_1}$"
   ]
  },
  {
   "cell_type": "markdown",
   "metadata": {},
   "source": [
    "(3) Since our lower bounds on $\\lambda$ for all $v$, we want to compute the maximum lower bound. Compute the maximum lower bound of $\\lambda$ by maximizing the expression over $v$. Show that this expression is equivalent to $\\lambda_{max}=2\\|X^Ty\\|_\\infty$.\n",
    "\n",
    "> __ANSWER__\n",
    "\n",
    "> $\\begin{array}{lll}\n",
    "L'(w,v) &=& \\lim\\limits_{h\\to 0}\\frac{L(w+hv)-L(w)}{h}\\\\\n",
    "&=&\\lim\\limits_{h\\to 0}\\frac{(X(w+hv)-y)^T(X(w+hv)-y)+\\lambda(\\|w+hv\\|_1-\\|w\\|_1)}{h}\\\\\n",
    "&=&2X^T(Xw-y)v+\\lambda(\\sum\\limits_{j,w_j\\neq0}sign(w_j)v_j+\\sum\\limits_{j,w_j=0}|v_j|)\n",
    "\\end{array}$\n",
    "\n",
    "> Lower bounds for all v and w should be,\n",
    "\n",
    "> $\\lambda_{max}\\geq\\frac{2X^T(y-Xw)v}{\\sum\\limits_{j,w_j\\neq0}sign(w_j)v_j+\\sum\\limits_{j,w_j=0}|v_j|}=2\\|X^Ty\\|_\\infty$\n"
   ]
  },
  {
   "cell_type": "markdown",
   "metadata": {},
   "source": [
    "(4) Show that for $L(w)=\\|Xw+b-y\\|^2_2+\\lambda\\|w\\|_1$,$\\lambda_{max}=2\\|X^T(y-\\bar y)\\|_\\infty$ where $\\bar y$ is the mean of valus in the vector $y$."
   ]
  },
  {
   "cell_type": "markdown",
   "metadata": {},
   "source": [
    "> __ANSWER__\n",
    "\n",
    "> $L(w) = \\sum\\limits_{i=1}^{n}(w^Tx_i+b-y_i)+\\lambda\\|w\\|_1$\n",
    "\n",
    "> $\\begin{array}{ll}\n",
    "0&\\leq&L^{'}(0;v)\\\\\n",
    "&\\leq&-2vX^T (y-b)+\\lambda\\|v\\|\\\\\n",
    "\\end{array}$\n",
    "\n",
    "> Therefore, \n",
    "\n",
    "> $\\begin{array}{ll}\n",
    "\\lambda &\\geq&2\\frac{v}{\\|v\\|_1} X^T (y-b)\\\\\n",
    "&=&2\\|X^T(y-b)\\|_\\infty\\\\\n",
    "&=&2\\|X^T(y-\\bar y+\\bar y-b)\\|\\\\\n",
    "&\\geq&2\\|X^T(y-\\bar y)\\|_\\infty\n",
    "\\end{array}$\n",
    "\n",
    "> Hence,\n",
    "\n",
    "> $\\lambda_{max} = 2\\|X^T(y-\\bar y)\\|_\\infty$"
   ]
  },
  {
   "cell_type": "markdown",
   "metadata": {},
   "source": [
    "### 3.2 Feature Correlation"
   ]
  },
  {
   "cell_type": "markdown",
   "metadata": {},
   "source": [
    "(1) Derive the relation between $\\hat \\theta_i$ and $\\hat \\theta_j$, the $i^{th}$ and the $j^{th}$ components of the optimal weight vector obtained by solving the Lasso optimization problem.\n",
    "\n",
    ">__ANSWER__\n",
    "\n",
    "> Assume $\\hat{\\theta}_i=a$ and $\\hat{\\theta}_j=b$\n",
    "\n",
    ">The lasso objective function, below, must minimize both loss and regularization.\n",
    "\n",
    ">$$\\sum\\limits_{k=1}^n (h(x_k) - y_k)^2 + \\lambda\\|w\\|_1$$\n",
    "\n",
    ">First consider the loss, $\\sum\\limits_{k=1}^n (h(x_k) - y_k)^2$, where $h(x_k)=\\mathbf w^Tx_k$\n",
    "\n",
    ">The loss due to $x_i$, $x_j$ is $\\sum\\limits_{k=1}^n (\\hat{\\theta}_iX_{ik} + \\hat{\\theta}_jX_{jk} - y_k)$\n",
    "\n",
    "> Since $X_i=X_j$, this simplifies to $\\sum\\limits_{k=1}^n ((\\hat{\\theta}_i + \\hat{\\theta}_j)X_{ik} - y_k)$\n",
    "\n",
    "> Thus the optimal values $a$ and $b$ must sum to another value $c$ that minimizes this expression $\\sum\\limits_{k=1}^n (cX_{ik} - y_k)$\n",
    "\n",
    "> Next we minimize the lasso regularization component, $\\lambda||w||_1 = \\lambda\\sum\\limits_{l=1}^d|w_l|$\n",
    "\n",
    "> The regularization penalty due to $x_i$, $x_j$ is $|a| + |b|$.  If $a$ and $b$ are of opposite sign, and both are nonzero, then $|a| + |b|$ > $|c| + |0|$, and the regularization penalty is not minimized.  Therefore $a$ and $b$ must be of the same sign and are constrained by optimal value $c$ such that $a+b=c$\n",
    "   "
   ]
  },
  {
   "cell_type": "markdown",
   "metadata": {},
   "source": [
    "(2) Derive the relation between $\\hat{\\theta}_i$ and $\\hat{\\theta}_j$, the $i^{th}$ and $j^{th}$ components of the optimal weight vector obtained by solving the ridge regression optimization problem."
   ]
  },
  {
   "cell_type": "markdown",
   "metadata": {},
   "source": [
    ">The ridge regression objective function, below, must minimize both loss and regularization.\n",
    "\n",
    ">$\\sum\\limits_{k=1}^n (h(x_k) - y_k)^2 + \\lambda\\|w\\|_2^2$\n",
    "\n",
    ">The loss component is the same as with lasso, so we must minimize the regularization penalty subject to the same constraint as in lasso, which is that $a + b = c$\n",
    "\n",
    ">The regularization penalty due to $x_i$, $x_j$ is $a^2 + b^2$.  Next I will show that $a^2 + b^2 \\ge (\\frac{c}{2})^2 + (\\frac{c}{2})^2$, and therefore $a$ and $b$ must be equal to $\\frac{c}{2}=\\frac{a+b}{2}$ under these conditions.\n",
    "\n",
    "> Claim: $a^2 + b^2 \\ge 2(\\frac{c}{2})^2$\n",
    "\n",
    "> Proof: \n",
    "\n",
    ">$\\begin{array}{lll}\n",
    "a^2 + b^2 &=& a^2 + (c-a)^2\\\\\n",
    "&=& a^2 + c^2 - 2ac + a^2\\\\\n",
    "&=& 2a^2 + c^2 - 2ac\\\\\n",
    "&=& \\frac{1}{2}(4a^2 - 4ac + 2c^2)\\\\\n",
    "&=& \\frac{1}{2}(2a-c)^2 + \\frac{c^2}{2}\\\\\n",
    "&=& \\frac{1}{2}(2a-c)^2 + 2(\\frac{c}{2})^2\\\\\n",
    "&=& \\frac{1}{2}(2a-c)^2 \\ge 0\n",
    "\\end{array}$\n",
    "\n",
    "> therefore $\\frac{1}{2}(2a-c)^2 + 2(\\frac{c}{2})^2 \\ge 2(\\frac{c}{2})^2$\n",
    "\n",
    "> Thus $a$ and $b$ must be equal."
   ]
  },
  {
   "cell_type": "markdown",
   "metadata": {},
   "source": [
    "## 4 The Ellipsoids in the $\\ell_1/\\ell_2$ regularization picture"
   ]
  },
  {
   "cell_type": "markdown",
   "metadata": {},
   "source": [
    "(1) Let $\\hat w = (X^T X)^{-1}X^Ty$. Show that $\\hat w$ has empirical risk given by\n",
    "$$\\hat R_n(\\hat w)=\\frac{1}{n}(-y^TX\\hat w+y^Ty)$$\n",
    "\n",
    "> __ANSWER__\n",
    "\n",
    "> $\\begin{array}{lll}\n",
    "\\hat R_n(\\hat w) &=& \\frac{1}{n}(Xw-y)^T(Xw-y) \\\\\n",
    "&=& \\frac{1}{n}(w^TX^TXw-2w^TX^Ty+y^Ty)\\\\\n",
    "&=& \\frac{1}{n}[w^TX^T(Xw-2y)+y^Ty]\\\\\n",
    "&=& \\frac{1}{n}[w^TX^T(-2y+X(X^T X)^{-1}X^Ty)+y^Ty]\\\\\n",
    "&=& \\frac{1}{n}[-w^TX^Ty+y^Ty]\\\\\n",
    "&=& \\frac{1}{n}\\{-[(X^T X)^{-1}X^Ty]^TX^Ty+y^Ty\\}\\\\\n",
    "&=& \\frac{1}{n}[-y^TX[(X^TX)^{-1}X^Ty]+y^Ty]\\\\\n",
    "&=& \\frac{1}{n}[-y^TX\\hat w+y^Ty]\n",
    "\\end{array}$"
   ]
  },
  {
   "cell_type": "markdown",
   "metadata": {},
   "source": [
    "(2) Show that for any $w$ we have\n",
    "$$\\hat R_n(w)=\\frac{1}{n}(w-\\hat w)^TX^TX(w-\\hat w)+\\hat R_n(\\hat w)$$\n",
    "> __ANSWER__\n",
    "\n",
    "> $\\begin{array}{lll}\n",
    "\\hat R_n(w) &=& \\frac{1}{n}(Xw-y)^T(Xw-y)\\\\\n",
    "&=& \\frac{1}{n}[w^T(X^TX)w-2(X^Ty)^Tw+y^Ty]\\\\\n",
    "&=& \\frac{1}{n}\\{[w-(X^TX)^{-1}X^Ty]^T(X^TX)[w-(X^TX)^{-1}X^Ty]-(X^Ty)^T(X^TX)^{-1}X^Ty+y^Ty\\}\\\\\n",
    "&=& \\frac{1}{n}[(w-\\hat w)^T(X^TX)(w-\\hat w)-y^TX\\hat w+y^Ty]\\\\\n",
    "&=& \\frac{1}{n}(w-\\hat w)^T(X^TX)(w-\\hat w)+\\hat R_n(\\hat w)\n",
    "\\end{array}$"
   ]
  },
  {
   "cell_type": "markdown",
   "metadata": {},
   "source": [
    "(3) Using the expression in (2), give a very short proof that $\\hat w=(X^TX)^{-1}X^Ty$ is the empirical risk minimizer. That is:\n",
    "$$\\hat w=\\underset{w}{\\mathrm{argmin}}\\hat R_n(w)$$\n",
    "\n",
    "> __ANSWER__\n",
    "\n",
    "> $X^TX$ is positive semidefinite\n",
    "\n",
    "> $\\therefore \\forall (w-\\hat w)\\in \\mathbf R^d, $\n",
    "\n",
    "> $\\Phi(w)=(w-\\hat w)^TX^TX(w-\\hat w)\\geq 0$\n",
    "\n",
    "> Hence $\\hat w$ is the minimizer of $\\Phi(w)$\n",
    "\n",
    "> $\\hat R_n(w)=\\frac{1}{n}\\Phi(w)+\\hat R_n(\\hat w)\\geq \\hat R_n(\\hat w)$\n",
    "\n",
    "> Therefore, $\\hat w$ is also the minimizer fo the empirical risk $\\hat R_n(w)$"
   ]
  },
  {
   "cell_type": "markdown",
   "metadata": {},
   "source": [
    "(4) Give an expression for the set of $w$ for which the empirical risk exceeds the minimum empirical risk $\\hat R_n(\\hat w)$ by an amount $c>0$. This set is an ellipse - what is its center?"
   ]
  },
  {
   "cell_type": "markdown",
   "metadata": {},
   "source": [
    "> __ANSWER__\n",
    "\n",
    "> $\\{w\\quad |\\quad (w-\\hat w)^TX^TX(w-\\hat w)=c,c>0\\}$ is an ellipsoid centered at $\\hat w$"
   ]
  },
  {
   "cell_type": "markdown",
   "metadata": {},
   "source": [
    "## 5 Projected SGD via Variable Splitting"
   ]
  },
  {
   "cell_type": "markdown",
   "metadata": {},
   "source": [
    "(1) Implement projected SGD to solve the above optimization problem for the same value $\\lambda$'s as used with the shooting algorithm."
   ]
  },
  {
   "cell_type": "code",
   "execution_count": 19,
   "metadata": {
    "collapsed": true
   },
   "outputs": [],
   "source": [
    "def compute_sgd_loss(X, y, w_p, w_n, Lambda):\n",
    "    m = y.size\n",
    "    hX = (w_p - w_n).dot(X.T)\n",
    "    #loss = ((np.square(hX - y))/(m)).sum() + Lambda*((w_p+w_n).sum())\n",
    "    loss = ((np.square(hX - y))/(2*m)).sum()\n",
    "    return loss"
   ]
  },
  {
   "cell_type": "code",
   "execution_count": 20,
   "metadata": {
    "collapsed": true
   },
   "outputs": [],
   "source": [
    "def compute_sgd_gradient(X, y, i, w_p, w_n, Lambda, component):\n",
    "    if component is 'p':\n",
    "        grad = (X[i].dot(w_p-w_n)-y[i])*(X[i]) + Lambda\n",
    "    elif component is 'n':\n",
    "        grad = -(X[i].dot(w_p-w_n)-y[i])*(X[i]) + Lambda\n",
    "    return grad"
   ]
  },
  {
   "cell_type": "code",
   "execution_count": 21,
   "metadata": {
    "collapsed": true
   },
   "outputs": [],
   "source": [
    "def projected_sgd(X,y,validation_X, validation_y, Lambda=0.3, alpha=0.1, beta=0.1, num_iter=5000):\n",
    "    m,d = X.shape\n",
    "    w = np.random.rand(d,1) #initialize weight\n",
    "    w_p = np.zeros(d)\n",
    "    w_n = np.zeros(d)\n",
    "    for i in range(d):\n",
    "        if w[i] > 0:\n",
    "            w_p[i] = w[i]\n",
    "        else:\n",
    "            w_n[i] = w[i]\n",
    "    \n",
    "    opt_loss=1000\n",
    "    opt_w = w\n",
    "    step=0\n",
    "    epoch=0\n",
    "    \n",
    "    order = range(m)\n",
    "    \n",
    "    for j in range(num_iter + 1):\n",
    "        np.random.shuffle(order)\n",
    "        \n",
    "        for k in range(m):\n",
    "            loss = compute_sgd_loss(validation_X, validation_y, w_p, w_n, Lambda)\n",
    "            grad_p = compute_sgd_gradient(X, y, order[k], w_p, w_n, Lambda, component='p')\n",
    "            grad_n = compute_sgd_gradient(X, y, order[k], w_p, w_n, Lambda, component='n')\n",
    "            \n",
    "            if loss < opt_loss:\n",
    "                opt_loss = loss\n",
    "                opt_w = w_p - w_n\n",
    "                step = j*m+k+1\n",
    "                epoch= j+1\n",
    "            \n",
    "            if alpha is \"1/t\":\n",
    "                alpha=beta*(1./(j*m+k+1))\n",
    "            elif alpha is \"1/sqrt(t)\":\n",
    "                alpha=beta*(1./np.sqrt(j*m+k+1))\n",
    "            else:\n",
    "                alpha=alpha\n",
    "            \n",
    "            w_p = w_p - alpha*grad_p\n",
    "            w_n = w_n - alpha*grad_n\n",
    "            \n",
    "            for i in range(d):\n",
    "                if w_p[i] < 0:\n",
    "                    w_p[i] = 0\n",
    "                elif w_n[i] < 0:\n",
    "                    w_n[i] = 0\n",
    "    return opt_loss, opt_w, w_p, w_n"
   ]
  },
  {
   "cell_type": "code",
   "execution_count": 22,
   "metadata": {
    "collapsed": false
   },
   "outputs": [
    {
     "name": "stdout",
     "output_type": "stream",
     "text": [
      "Start Searching\n",
      "Converged: False Iterations: 1000\n",
      "Converged: False Iterations: 1000\n",
      "Converged: False Iterations: 1000\n",
      "Converged: False Iterations: 1000\n",
      "Converged: False Iterations: 1000\n",
      "Converged: False Iterations: 1000\n",
      "Converged: True Iterations: 587\n",
      "Converged: True Iterations: 310\n",
      "Converged: True Iterations: 213\n",
      "Converged: True Iterations: 178\n",
      "Converged: True Iterations: 157\n",
      "Converged: True Iterations: 129\n",
      "Converged: True Iterations: 52\n",
      "Converged: True Iterations: 47\n",
      "Converged: True Iterations: 22\n"
     ]
    }
   ],
   "source": [
    "loss = []\n",
    "w = []\n",
    "loss1=[]\n",
    "w1=[]\n",
    "Lambda_max = np.linalg.norm(np.dot(X_train.T,y_train),np.inf)\n",
    "log_lambda_max = np.log10(Lambda_max)\n",
    "print \"Start Searching\"\n",
    "\n",
    "for i in np.linspace( -2,log_lambda_max, 15):\n",
    "    Lambda = 10**i;\n",
    "    opt_loss, opt_w, w_p, w_n = projected_sgd(X_train,y_train,X_validation, y_validation, Lambda=Lambda, alpha=0.005, num_iter=5000)\n",
    "    opt_w1, converged = lasso_shooting(X_train, y_train, Lambda)    \n",
    "    opt_loss1 = compute_loss(X_validation, y_validation, opt_w1)\n",
    "    loss.append(opt_loss)\n",
    "    w.append(opt_w)\n",
    "    w1.append(opt_w1)\n",
    "    loss1.append(opt_loss1)"
   ]
  },
  {
   "cell_type": "code",
   "execution_count": 23,
   "metadata": {
    "collapsed": false
   },
   "outputs": [
    {
     "data": {
      "text/plain": [
       "<matplotlib.text.Text at 0x115dc8910>"
      ]
     },
     "execution_count": 23,
     "metadata": {},
     "output_type": "execute_result"
    },
    {
     "data": {
      "image/png": "[encoded data removed]",
      "text/plain": [
       "<matplotlib.figure.Figure at 0x115ed6490>"
      ]
     },
     "metadata": {},
     "output_type": "display_data"
    }
   ],
   "source": [
    "plt.plot([10**i for i in np.linspace( -2,log_lambda_max, 15)], loss, label=\"Projected SGD\")\n",
    "plt.plot([10**i for i in np.linspace( -2,log_lambda_max, 15)], loss1, label=\"Shooting algo\")\n",
    "plt.gca().set_xscale(\"log\")\n",
    "plt.gca().set_yscale(\"log\")\n",
    "plt.legend(loc=\"best\")\n",
    "plt.xlabel('lambda')\n",
    "plt.ylabel('loss')\n",
    "plt.title('Comparing Projected SGD & Shooting algo')"
   ]
  },
  {
   "cell_type": "code",
   "execution_count": 24,
   "metadata": {
    "collapsed": false
   },
   "outputs": [
    {
     "name": "stdout",
     "output_type": "stream",
     "text": [
      "With tolerence of 0.05\n",
      "True Value Zero estimated as Nonzero: 0\n",
      "True Value Nonzero estimated as Zero: 0\n",
      "True Value Zero estimated as Zero: 65\n",
      "True Value Nonzero estimated as Nonzero: 10\n"
     ]
    }
   ],
   "source": [
    "#Analyze the sparsity of the projected SGD solution\n",
    "loss_array = np.array(loss)\n",
    "indx = np.where(loss_array ==loss_array.min())[0][0]\n",
    "w_opt = w[indx]\n",
    "### Coefficient Report under tolerence=0.05 ###\n",
    "tolerance = 0.05\n",
    "false_nonzeros = sum((w_true==0) & (abs(w_opt)>=tolerance))\n",
    "false_zeros = sum((w_true!=0) & (abs(w_opt)<tolerance))\n",
    "true_nonzeros = sum((w_true!=0) & (abs(w_opt)>=tolerance))\n",
    "true_zeros = sum((w_true==0) & (abs(w_opt)<tolerance))\n",
    "print \"With tolerence of {0}\".format(tolerance)\n",
    "print \"True Value Zero estimated as Nonzero: {0}\".format(false_nonzeros)\n",
    "print \"True Value Nonzero estimated as Zero: {0}\".format(false_zeros)\n",
    "print \"True Value Zero estimated as Zero: {0}\".format(true_zeros)\n",
    "print \"True Value Nonzero estimated as Nonzero: {0}\".format(true_nonzeros)"
   ]
  },
  {
   "cell_type": "code",
   "execution_count": 25,
   "metadata": {
    "collapsed": false
   },
   "outputs": [
    {
     "name": "stdout",
     "output_type": "stream",
     "text": [
      "With tolerence of 0.05\n",
      "True Value Zero estimated as Nonzero: 5\n",
      "True Value Nonzero estimated as Zero: 0\n",
      "True Value Zero estimated as Zero: 60\n",
      "True Value Nonzero estimated as Nonzero: 10\n"
     ]
    }
   ],
   "source": [
    "#Analyze the sparsity of the projected SGD solution\n",
    "loss_array = np.array(loss1)\n",
    "indx = np.where(loss_array ==loss_array.min())[0][0]\n",
    "w_opt = w1[indx]\n",
    "### Coefficient Report under tolerence=0.05 ###\n",
    "tolerance = 0.05\n",
    "false_nonzeros = sum((w_true==0) & (abs(w_opt)>=tolerance))\n",
    "false_zeros = sum((w_true!=0) & (abs(w_opt)<tolerance))\n",
    "true_nonzeros = sum((w_true!=0) & (abs(w_opt)>=tolerance))\n",
    "true_zeros = sum((w_true==0) & (abs(w_opt)<tolerance))\n",
    "print \"With tolerence of {0}\".format(tolerance)\n",
    "print \"True Value Zero estimated as Nonzero: {0}\".format(false_nonzeros)\n",
    "print \"True Value Nonzero estimated as Zero: {0}\".format(false_zeros)\n",
    "print \"True Value Zero estimated as Zero: {0}\".format(true_zeros)\n",
    "print \"True Value Nonzero estimated as Nonzero: {0}\".format(true_nonzeros)"
   ]
  },
  {
   "cell_type": "markdown",
   "metadata": {},
   "source": [
    "Compare Projected SGD with Lasso Shooting, the Projected SGD solution has more sparsity."
   ]
  }
 ],
 "metadata": {
  "kernelspec": {
   "display_name": "Python 2",
   "language": "python",
   "name": "python2"
  },
  "language_info": {
   "codemirror_mode": {
    "name": "ipython",
    "version": 2
   },
   "file_extension": ".py",
   "mimetype": "text/x-python",
   "name": "python",
   "nbconvert_exporter": "python",
   "pygments_lexer": "ipython2",
   "version": "2.7.10"
  }
 },
 "nbformat": 4,
 "nbformat_minor": 0
}
